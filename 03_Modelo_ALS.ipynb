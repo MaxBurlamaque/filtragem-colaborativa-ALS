{
 "cells": [
  {
   "cell_type": "markdown",
   "id": "bad5ca18",
   "metadata": {},
   "source": [
    "# Notebook 3: Modelo Als"
   ]
  },
  {
   "cell_type": "code",
   "execution_count": 7,
   "id": "e6699b69",
   "metadata": {},
   "outputs": [],
   "source": [
    "import warnings\n",
    "warnings.filterwarnings('ignore')\n",
    "\n",
    "import pandas as pd\n",
    "from scipy import sparse\n",
    "import implicit"
   ]
  },
  {
   "cell_type": "code",
   "execution_count": 2,
   "id": "d1b4c817",
   "metadata": {},
   "outputs": [],
   "source": [
    "#padroniza valores pandas\n",
    "pd.set_option('display.float_format', lambda x: '%.2f' % x)"
   ]
  },
  {
   "cell_type": "code",
   "execution_count": 3,
   "id": "fbc6d143",
   "metadata": {},
   "outputs": [],
   "source": [
    "users = pd.read_csv(\"customers_1.csv\")\n",
    "\n",
    "prods = pd.read_csv(\"products_1.csv\")\n",
    "\n",
    "transfers = pd.read_csv(\"transactions_1.csv\")"
   ]
  },
  {
   "cell_type": "code",
   "execution_count": 9,
   "id": "e863a1be",
   "metadata": {},
   "outputs": [
    {
     "data": {
      "text/html": [
       "<div>\n",
       "<style scoped>\n",
       "    .dataframe tbody tr th:only-of-type {\n",
       "        vertical-align: middle;\n",
       "    }\n",
       "\n",
       "    .dataframe tbody tr th {\n",
       "        vertical-align: top;\n",
       "    }\n",
       "\n",
       "    .dataframe thead th {\n",
       "        text-align: right;\n",
       "    }\n",
       "</style>\n",
       "<table border=\"1\" class=\"dataframe\">\n",
       "  <thead>\n",
       "    <tr style=\"text-align: right;\">\n",
       "      <th></th>\n",
       "      <th>Customer_ID</th>\n",
       "      <th>SKU_Category</th>\n",
       "      <th>SKU</th>\n",
       "      <th>Average_Transaction_Amount</th>\n",
       "      <th>Total_Transactions</th>\n",
       "      <th>Total_Products</th>\n",
       "      <th>Total_Spent</th>\n",
       "      <th>First_Order_Date</th>\n",
       "      <th>Last_Order_Date</th>\n",
       "    </tr>\n",
       "  </thead>\n",
       "  <tbody>\n",
       "    <tr>\n",
       "      <th>0</th>\n",
       "      <td>1</td>\n",
       "      <td>{'0H2': 1, 'N8U': 1}</td>\n",
       "      <td>{'6OUVC': 1, 'CEBU8': 1}</td>\n",
       "      <td>16.29</td>\n",
       "      <td>1</td>\n",
       "      <td>2.00</td>\n",
       "      <td>16.29</td>\n",
       "      <td>2016-01-22</td>\n",
       "      <td>2016-01-22</td>\n",
       "    </tr>\n",
       "  </tbody>\n",
       "</table>\n",
       "</div>"
      ],
      "text/plain": [
       "   Customer_ID          SKU_Category                       SKU  \\\n",
       "0            1  {'0H2': 1, 'N8U': 1}  {'6OUVC': 1, 'CEBU8': 1}   \n",
       "\n",
       "   Average_Transaction_Amount  Total_Transactions  Total_Products  \\\n",
       "0                       16.29                   1            2.00   \n",
       "\n",
       "   Total_Spent First_Order_Date Last_Order_Date  \n",
       "0        16.29       2016-01-22      2016-01-22  "
      ]
     },
     "execution_count": 9,
     "metadata": {},
     "output_type": "execute_result"
    }
   ],
   "source": [
    "users.head(1)"
   ]
  },
  {
   "cell_type": "code",
   "execution_count": 10,
   "id": "1ce87be3",
   "metadata": {},
   "outputs": [
    {
     "data": {
      "text/html": [
       "<div>\n",
       "<style scoped>\n",
       "    .dataframe tbody tr th:only-of-type {\n",
       "        vertical-align: middle;\n",
       "    }\n",
       "\n",
       "    .dataframe tbody tr th {\n",
       "        vertical-align: top;\n",
       "    }\n",
       "\n",
       "    .dataframe thead th {\n",
       "        text-align: right;\n",
       "    }\n",
       "</style>\n",
       "<table border=\"1\" class=\"dataframe\">\n",
       "  <thead>\n",
       "    <tr style=\"text-align: right;\">\n",
       "      <th></th>\n",
       "      <th>SKU_N</th>\n",
       "      <th>SKU</th>\n",
       "      <th>SKU_Category</th>\n",
       "      <th>Units_Sold</th>\n",
       "      <th>Total_Amount</th>\n",
       "      <th>Unit_Amount_Average</th>\n",
       "    </tr>\n",
       "  </thead>\n",
       "  <tbody>\n",
       "    <tr>\n",
       "      <th>0</th>\n",
       "      <td>0</td>\n",
       "      <td>00GVC</td>\n",
       "      <td>1TS</td>\n",
       "      <td>2.00</td>\n",
       "      <td>35.36</td>\n",
       "      <td>17.68</td>\n",
       "    </tr>\n",
       "  </tbody>\n",
       "</table>\n",
       "</div>"
      ],
      "text/plain": [
       "   SKU_N    SKU SKU_Category  Units_Sold  Total_Amount  Unit_Amount_Average\n",
       "0      0  00GVC          1TS        2.00         35.36                17.68"
      ]
     },
     "execution_count": 10,
     "metadata": {},
     "output_type": "execute_result"
    }
   ],
   "source": [
    "prods.head(1)"
   ]
  },
  {
   "cell_type": "code",
   "execution_count": 11,
   "id": "e37b51b6",
   "metadata": {},
   "outputs": [
    {
     "data": {
      "text/html": [
       "<div>\n",
       "<style scoped>\n",
       "    .dataframe tbody tr th:only-of-type {\n",
       "        vertical-align: middle;\n",
       "    }\n",
       "\n",
       "    .dataframe tbody tr th {\n",
       "        vertical-align: top;\n",
       "    }\n",
       "\n",
       "    .dataframe thead th {\n",
       "        text-align: right;\n",
       "    }\n",
       "</style>\n",
       "<table border=\"1\" class=\"dataframe\">\n",
       "  <thead>\n",
       "    <tr style=\"text-align: right;\">\n",
       "      <th></th>\n",
       "      <th>Transaction_P_ID</th>\n",
       "      <th>Date</th>\n",
       "      <th>Customer_ID</th>\n",
       "      <th>Transaction_ID</th>\n",
       "      <th>SKU_Category</th>\n",
       "      <th>SKU</th>\n",
       "      <th>Quantity</th>\n",
       "      <th>Sales_Amount</th>\n",
       "    </tr>\n",
       "  </thead>\n",
       "  <tbody>\n",
       "    <tr>\n",
       "      <th>0</th>\n",
       "      <td>1</td>\n",
       "      <td>2016-01-02</td>\n",
       "      <td>2547</td>\n",
       "      <td>1</td>\n",
       "      <td>X52</td>\n",
       "      <td>0EM7L</td>\n",
       "      <td>1.00</td>\n",
       "      <td>3.13</td>\n",
       "    </tr>\n",
       "  </tbody>\n",
       "</table>\n",
       "</div>"
      ],
      "text/plain": [
       "   Transaction_P_ID        Date  Customer_ID  Transaction_ID SKU_Category  \\\n",
       "0                 1  2016-01-02         2547               1          X52   \n",
       "\n",
       "     SKU  Quantity  Sales_Amount  \n",
       "0  0EM7L      1.00          3.13  "
      ]
     },
     "execution_count": 11,
     "metadata": {},
     "output_type": "execute_result"
    }
   ],
   "source": [
    "transfers.head(1)"
   ]
  },
  {
   "cell_type": "code",
   "execution_count": 13,
   "id": "c37644a5",
   "metadata": {},
   "outputs": [
    {
     "data": {
      "text/plain": [
       "118600250"
      ]
     },
     "execution_count": 13,
     "metadata": {},
     "output_type": "execute_result"
    }
   ],
   "source": [
    "# quantidade de celulas de uma matriz de usuarios x produtos, com a maior parte sendo esparsa\n",
    "22625 * 5242"
   ]
  },
  {
   "cell_type": "code",
   "execution_count": 14,
   "id": "c43961d2",
   "metadata": {},
   "outputs": [
    {
     "name": "stdout",
     "output_type": "stream",
     "text": [
      "4.713900552486188\n"
     ]
    }
   ],
   "source": [
    "# media de produtos por usuario - > seriam em media 5 celulas ocupadas para o usuario e 5237 nulas\n",
    "soma = 0\n",
    "for i in users.SKU.to_list():\n",
    "    soma += len(eval(i))\n",
    "print(soma/users.shape[0])"
   ]
  },
  {
   "cell_type": "code",
   "execution_count": 18,
   "id": "66ca1e6e",
   "metadata": {},
   "outputs": [
    {
     "data": {
      "text/html": [
       "<div>\n",
       "<style scoped>\n",
       "    .dataframe tbody tr th:only-of-type {\n",
       "        vertical-align: middle;\n",
       "    }\n",
       "\n",
       "    .dataframe tbody tr th {\n",
       "        vertical-align: top;\n",
       "    }\n",
       "\n",
       "    .dataframe thead th {\n",
       "        text-align: right;\n",
       "    }\n",
       "</style>\n",
       "<table border=\"1\" class=\"dataframe\">\n",
       "  <thead>\n",
       "    <tr style=\"text-align: right;\">\n",
       "      <th></th>\n",
       "      <th>USER</th>\n",
       "      <th>SKU</th>\n",
       "      <th>QUANTITY</th>\n",
       "    </tr>\n",
       "  </thead>\n",
       "  <tbody>\n",
       "  </tbody>\n",
       "</table>\n",
       "</div>"
      ],
      "text/plain": [
       "Empty DataFrame\n",
       "Columns: [USER, SKU, QUANTITY]\n",
       "Index: []"
      ]
     },
     "execution_count": 18,
     "metadata": {},
     "output_type": "execute_result"
    }
   ],
   "source": [
    "# criando base para o modelo\n",
    "df_transfers = pd.DataFrame(columns=['USER', 'SKU', 'QUANTITY'])\n",
    "df_transfers"
   ]
  },
  {
   "cell_type": "code",
   "execution_count": 19,
   "id": "108021d5",
   "metadata": {},
   "outputs": [
    {
     "name": "stdout",
     "output_type": "stream",
     "text": [
      "Wall time: 7min 55s\n"
     ]
    }
   ],
   "source": [
    "# adicionando itens comprados por usuario e sua quantidade, em linhas separadas\n",
    "%%time\n",
    "for a, i in users.iterrows():\n",
    "    for j, k in eval(i.SKU).items():\n",
    "        df_transfers.loc[len(df_transfers.index)] = [i.Customer_ID, j, k]"
   ]
  },
  {
   "cell_type": "code",
   "execution_count": 21,
   "id": "4e2be4a8",
   "metadata": {
    "scrolled": true
   },
   "outputs": [],
   "source": [
    "# como o id do produto é uma string e o modelo precisa de um numero, a conversao vai ser feita atraves desse dicionario\n",
    "dict_sku = pd.Series(prods['SKU_N'].values,index=prods.SKU).to_dict()"
   ]
  },
  {
   "cell_type": "code",
   "execution_count": 22,
   "id": "02c9379a",
   "metadata": {},
   "outputs": [
    {
     "data": {
      "text/html": [
       "<div>\n",
       "<style scoped>\n",
       "    .dataframe tbody tr th:only-of-type {\n",
       "        vertical-align: middle;\n",
       "    }\n",
       "\n",
       "    .dataframe tbody tr th {\n",
       "        vertical-align: top;\n",
       "    }\n",
       "\n",
       "    .dataframe thead th {\n",
       "        text-align: right;\n",
       "    }\n",
       "</style>\n",
       "<table border=\"1\" class=\"dataframe\">\n",
       "  <thead>\n",
       "    <tr style=\"text-align: right;\">\n",
       "      <th></th>\n",
       "      <th>USER</th>\n",
       "      <th>SKU</th>\n",
       "      <th>QUANTITY</th>\n",
       "      <th>SKU_ID</th>\n",
       "    </tr>\n",
       "  </thead>\n",
       "  <tbody>\n",
       "    <tr>\n",
       "      <th>104875</th>\n",
       "      <td>21994</td>\n",
       "      <td>VHZUD</td>\n",
       "      <td>1</td>\n",
       "      <td>4617</td>\n",
       "    </tr>\n",
       "    <tr>\n",
       "      <th>47348</th>\n",
       "      <td>11651</td>\n",
       "      <td>NSGRM</td>\n",
       "      <td>1</td>\n",
       "      <td>3511</td>\n",
       "    </tr>\n",
       "    <tr>\n",
       "      <th>56185</th>\n",
       "      <td>13418</td>\n",
       "      <td>BLH3I</td>\n",
       "      <td>2</td>\n",
       "      <td>1722</td>\n",
       "    </tr>\n",
       "    <tr>\n",
       "      <th>79235</th>\n",
       "      <td>17173</td>\n",
       "      <td>Q5U5W</td>\n",
       "      <td>1</td>\n",
       "      <td>3834</td>\n",
       "    </tr>\n",
       "    <tr>\n",
       "      <th>4922</th>\n",
       "      <td>1457</td>\n",
       "      <td>EV6K0</td>\n",
       "      <td>1</td>\n",
       "      <td>2205</td>\n",
       "    </tr>\n",
       "  </tbody>\n",
       "</table>\n",
       "</div>"
      ],
      "text/plain": [
       "         USER    SKU  QUANTITY  SKU_ID\n",
       "104875  21994  VHZUD         1    4617\n",
       "47348   11651  NSGRM         1    3511\n",
       "56185   13418  BLH3I         2    1722\n",
       "79235   17173  Q5U5W         1    3834\n",
       "4922     1457  EV6K0         1    2205"
      ]
     },
     "execution_count": 22,
     "metadata": {},
     "output_type": "execute_result"
    }
   ],
   "source": [
    "# como ficou a base que sera utilizada\n",
    "df_transfers['SKU_ID'] = df_transfers['SKU'].map(dict_sku)\n",
    "df_transfers.sample(5)"
   ]
  },
  {
   "cell_type": "code",
   "execution_count": 8,
   "id": "13fc2e2e",
   "metadata": {},
   "outputs": [
    {
     "data": {
      "text/plain": [
       "<22626x5242 sparse matrix of type '<class 'numpy.float64'>'\n",
       "\twith 106652 stored elements in Compressed Sparse Row format>"
      ]
     },
     "execution_count": 8,
     "metadata": {},
     "output_type": "execute_result"
    }
   ],
   "source": [
    "# matriz esparsa a partir da base\n",
    "sparse_matrix = sparse.csr_matrix((df_transfers[\"QUANTITY\"].astype(float), (df_transfers[\"USER\"], df_transfers[\"SKU_ID\"])))\n",
    "sparse_matrix"
   ]
  },
  {
   "cell_type": "code",
   "execution_count": 9,
   "id": "34940aaf",
   "metadata": {},
   "outputs": [],
   "source": [
    "# 1.1 modelo Alternating Least Squares, que faz uma estimativa baseado na filtragem colaborativa da matriz, os produtos que mais\n",
    "# ... se assemelham e os produtos mais indicados para determinados clientes\n",
    "# 1.2 poderiam ser testados outros parametros de regularization, iterations e factors porem nao tem maneira boa de testar depois\n",
    "model_als = implicit.als.AlternatingLeastSquares(\n",
    "    regularization=0.01,\n",
    "    iterations=100\n",
    ")"
   ]
  },
  {
   "cell_type": "code",
   "execution_count": 10,
   "id": "7557473f",
   "metadata": {},
   "outputs": [
    {
     "data": {
      "application/vnd.jupyter.widget-view+json": {
       "model_id": "eb9f4ff5603b49e183bbf85bea3ef904",
       "version_major": 2,
       "version_minor": 0
      },
      "text/plain": [
       "  0%|          | 0/100 [00:00<?, ?it/s]"
      ]
     },
     "metadata": {},
     "output_type": "display_data"
    },
    {
     "name": "stdout",
     "output_type": "stream",
     "text": [
      "Wall time: 4.18 s\n"
     ]
    }
   ],
   "source": [
    "# fitando modelo\n",
    "%%time\n",
    "model_als.fit(sparse_matrix)"
   ]
  },
  {
   "cell_type": "code",
   "execution_count": 11,
   "id": "c0e43cea",
   "metadata": {},
   "outputs": [
    {
     "name": "stdout",
     "output_type": "stream",
     "text": [
      "Wall time: 2.02 s\n"
     ]
    },
    {
     "data": {
      "text/plain": [
       "array([[   2,    1,    0],\n",
       "       [ 374, 3215, 1229],\n",
       "       [1155, 4629, 2264],\n",
       "       ...,\n",
       "       [3053,  335, 2538],\n",
       "       [4629,  253, 1699],\n",
       "       [2368, 2919, 1033]])"
      ]
     },
     "execution_count": 11,
     "metadata": {},
     "output_type": "execute_result"
    }
   ],
   "source": [
    "# recomendaçoes para usuarios\n",
    "%%time\n",
    "model_als.recommend_all(user_items=sparse_matrix, N=3)"
   ]
  },
  {
   "cell_type": "code",
   "execution_count": 20,
   "id": "564de225",
   "metadata": {},
   "outputs": [
    {
     "data": {
      "text/plain": [
       "(array([ 732, 1483, 3310, 3897, 3725, 1712]),\n",
       " array([1.0000001 , 0.9078132 , 0.90533733, 0.90533316, 0.90533316,\n",
       "        0.90533316], dtype=float32))"
      ]
     },
     "execution_count": 20,
     "metadata": {},
     "output_type": "execute_result"
    }
   ],
   "source": [
    "# itens similares ao de id 732(6 itens, o primeiro sendo ele mesmo)\n",
    "model_als.similar_items(732, N=6)"
   ]
  },
  {
   "cell_type": "code",
   "execution_count": 68,
   "id": "e89dc7e8",
   "metadata": {},
   "outputs": [
    {
     "data": {
      "text/plain": [
       "(array([5000, 4069, 3270, 1021, 4871, 2020]),\n",
       " array([1.0000002 , 0.62251407, 0.62250787, 0.50756353, 0.49514356,\n",
       "        0.49188343], dtype=float32))"
      ]
     },
     "execution_count": 68,
     "metadata": {},
     "output_type": "execute_result"
    }
   ],
   "source": [
    "model_als.similar_items(5000, N=6)"
   ]
  },
  {
   "cell_type": "code",
   "execution_count": 79,
   "id": "4fde182f",
   "metadata": {},
   "outputs": [
    {
     "data": {
      "text/plain": [
       "(array([1926, 1473, 3178, 4470,  865, 3530, 4849,  308, 2650,  987]),\n",
       " array([0.18740414, 0.1532486 , 0.14632306, 0.12700988, 0.10459536,\n",
       "        0.09826373, 0.0937887 , 0.0922004 , 0.09128136, 0.08556952],\n",
       "       dtype=float32))"
      ]
     },
     "execution_count": 79,
     "metadata": {},
     "output_type": "execute_result"
    }
   ],
   "source": [
    "# recomendaçoes para usuario de id 20002\n",
    "model_als.recommend(20002, sparse_matrix[20002])"
   ]
  }
 ],
 "metadata": {
  "kernelspec": {
   "display_name": "Python 3 (ipykernel)",
   "language": "python",
   "name": "python3"
  },
  "language_info": {
   "codemirror_mode": {
    "name": "ipython",
    "version": 3
   },
   "file_extension": ".py",
   "mimetype": "text/x-python",
   "name": "python",
   "nbconvert_exporter": "python",
   "pygments_lexer": "ipython3",
   "version": "3.9.13"
  }
 },
 "nbformat": 4,
 "nbformat_minor": 5
}
