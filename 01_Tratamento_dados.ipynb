{
 "cells": [
  {
   "cell_type": "markdown",
   "id": "fab3ef4e",
   "metadata": {},
   "source": [
    "# Notebook 1: Primeira analise & Tratamento de dados"
   ]
  },
  {
   "cell_type": "code",
   "execution_count": 1,
   "id": "1e34f47d",
   "metadata": {},
   "outputs": [],
   "source": [
    "import warnings\n",
    "warnings.filterwarnings('ignore')\n",
    "\n",
    "import pandas as pd\n",
    "import numpy as np\n",
    "from collections import Counter"
   ]
  },
  {
   "cell_type": "code",
   "execution_count": 2,
   "id": "83629bbc",
   "metadata": {},
   "outputs": [],
   "source": [
    "#padroniza valores pandas\n",
    "pd.set_option('display.float_format', lambda x: '%.2f' % x)"
   ]
  },
  {
   "cell_type": "code",
   "execution_count": 2,
   "id": "3a9aab3f",
   "metadata": {},
   "outputs": [],
   "source": [
    "df = pd.read_csv(\"scanner_data.csv\")"
   ]
  },
  {
   "cell_type": "markdown",
   "id": "0ce5eb86",
   "metadata": {},
   "source": [
    "### Visualizando e entendendo base de dados"
   ]
  },
  {
   "cell_type": "code",
   "execution_count": 4,
   "id": "bbe639eb",
   "metadata": {},
   "outputs": [
    {
     "data": {
      "text/html": [
       "<div>\n",
       "<style scoped>\n",
       "    .dataframe tbody tr th:only-of-type {\n",
       "        vertical-align: middle;\n",
       "    }\n",
       "\n",
       "    .dataframe tbody tr th {\n",
       "        vertical-align: top;\n",
       "    }\n",
       "\n",
       "    .dataframe thead th {\n",
       "        text-align: right;\n",
       "    }\n",
       "</style>\n",
       "<table border=\"1\" class=\"dataframe\">\n",
       "  <thead>\n",
       "    <tr style=\"text-align: right;\">\n",
       "      <th></th>\n",
       "      <th>Unnamed: 0</th>\n",
       "      <th>Date</th>\n",
       "      <th>Customer_ID</th>\n",
       "      <th>Transaction_ID</th>\n",
       "      <th>SKU_Category</th>\n",
       "      <th>SKU</th>\n",
       "      <th>Quantity</th>\n",
       "      <th>Sales_Amount</th>\n",
       "    </tr>\n",
       "  </thead>\n",
       "  <tbody>\n",
       "    <tr>\n",
       "      <th>0</th>\n",
       "      <td>1</td>\n",
       "      <td>02/01/2016</td>\n",
       "      <td>2547</td>\n",
       "      <td>1</td>\n",
       "      <td>X52</td>\n",
       "      <td>0EM7L</td>\n",
       "      <td>1.00</td>\n",
       "      <td>3.13</td>\n",
       "    </tr>\n",
       "    <tr>\n",
       "      <th>1</th>\n",
       "      <td>2</td>\n",
       "      <td>02/01/2016</td>\n",
       "      <td>822</td>\n",
       "      <td>2</td>\n",
       "      <td>2ML</td>\n",
       "      <td>68BRQ</td>\n",
       "      <td>1.00</td>\n",
       "      <td>5.46</td>\n",
       "    </tr>\n",
       "    <tr>\n",
       "      <th>2</th>\n",
       "      <td>3</td>\n",
       "      <td>02/01/2016</td>\n",
       "      <td>3686</td>\n",
       "      <td>3</td>\n",
       "      <td>0H2</td>\n",
       "      <td>CZUZX</td>\n",
       "      <td>1.00</td>\n",
       "      <td>6.35</td>\n",
       "    </tr>\n",
       "  </tbody>\n",
       "</table>\n",
       "</div>"
      ],
      "text/plain": [
       "   Unnamed: 0        Date  Customer_ID  Transaction_ID SKU_Category    SKU  \\\n",
       "0           1  02/01/2016         2547               1          X52  0EM7L   \n",
       "1           2  02/01/2016          822               2          2ML  68BRQ   \n",
       "2           3  02/01/2016         3686               3          0H2  CZUZX   \n",
       "\n",
       "   Quantity  Sales_Amount  \n",
       "0      1.00          3.13  \n",
       "1      1.00          5.46  \n",
       "2      1.00          6.35  "
      ]
     },
     "execution_count": 4,
     "metadata": {},
     "output_type": "execute_result"
    }
   ],
   "source": [
    "df.head(3)"
   ]
  },
  {
   "cell_type": "raw",
   "id": "f0e7d25f",
   "metadata": {},
   "source": [
    "base de dados com presença de ids de clientes, transaçoes e produtos(assim como suas macro categorias), quantidade de produtos vendidos naquela compra e preço do produto, uma base de transaçoes bem organizada mas que de cara ja reconheço o beneficio de ser reorganizada em bases separadas de usuarios e produtos simultaneamente a sua base de transaçoes para que se possa extrair o maximo de informaçoes com maior facilidade"
   ]
  },
  {
   "cell_type": "code",
   "execution_count": 5,
   "id": "3b971d28",
   "metadata": {},
   "outputs": [
    {
     "name": "stdout",
     "output_type": "stream",
     "text": [
      "<class 'pandas.core.frame.DataFrame'>\n",
      "RangeIndex: 131706 entries, 0 to 131705\n",
      "Data columns (total 8 columns):\n",
      " #   Column          Non-Null Count   Dtype  \n",
      "---  ------          --------------   -----  \n",
      " 0   Unnamed: 0      131706 non-null  int64  \n",
      " 1   Date            131706 non-null  object \n",
      " 2   Customer_ID     131706 non-null  int64  \n",
      " 3   Transaction_ID  131706 non-null  int64  \n",
      " 4   SKU_Category    131706 non-null  object \n",
      " 5   SKU             131706 non-null  object \n",
      " 6   Quantity        131706 non-null  float64\n",
      " 7   Sales_Amount    131706 non-null  float64\n",
      "dtypes: float64(2), int64(3), object(3)\n",
      "memory usage: 8.0+ MB\n"
     ]
    }
   ],
   "source": [
    "# sem nulos\n",
    "df.info()"
   ]
  },
  {
   "cell_type": "code",
   "execution_count": 3,
   "id": "a0af0f65",
   "metadata": {},
   "outputs": [],
   "source": [
    "# padronizando coluna date com pandas\n",
    "df['Date'] = pd.to_datetime(df['Date'], format='%d/%m/%Y')"
   ]
  },
  {
   "cell_type": "code",
   "execution_count": 5,
   "id": "0d468b98",
   "metadata": {},
   "outputs": [
    {
     "data": {
      "text/plain": [
       "Timestamp('2016-12-31 00:00:00')"
      ]
     },
     "execution_count": 5,
     "metadata": {},
     "output_type": "execute_result"
    }
   ],
   "source": [
    "# dados sao do periodo de 1 ano\n",
    "df.Date.max()"
   ]
  },
  {
   "cell_type": "markdown",
   "id": "8d0202b0",
   "metadata": {},
   "source": [
    "#### Mini analise carrinhos"
   ]
  },
  {
   "cell_type": "code",
   "execution_count": 6,
   "id": "4d513206",
   "metadata": {},
   "outputs": [
    {
     "data": {
      "text/plain": [
       "1348     21\n",
       "19098    21\n",
       "42295    20\n",
       "39032    19\n",
       "28731    19\n",
       "         ..\n",
       "28442     1\n",
       "28443     1\n",
       "28447     1\n",
       "28448     1\n",
       "32342     1\n",
       "Name: Transaction_ID, Length: 64682, dtype: int64"
      ]
     },
     "execution_count": 6,
     "metadata": {},
     "output_type": "execute_result"
    }
   ],
   "source": [
    "# 1.1 64k de transações, o que equivale a pouco mais de dois produtos por compra\n",
    "# 1.2 maiores carrinhos ainda nao sao grandes, 21 produtos maximo\n",
    "df.Transaction_ID.value_counts()"
   ]
  },
  {
   "cell_type": "code",
   "execution_count": 16,
   "id": "cb3495e6",
   "metadata": {},
   "outputs": [
    {
     "name": "stdout",
     "output_type": "stream",
     "text": [
      "Total de produtos comprados: 131706\n",
      "Total de carrinhos: 64682\n",
      "Media de produtos por carrinho: 2.04\n",
      "92.81% das compras sao ate 5 produtos\n"
     ]
    }
   ],
   "source": [
    "print(\"Total de produtos comprados:\", df.shape[0])\n",
    "print(\"Total de carrinhos:\", len(df.Transaction_ID.unique()))\n",
    "print(\"Media de produtos por carrinho: %.2f\" % (df.shape[0]/len(df.Transaction_ID.unique())))\n",
    "print('%.2f%% das compras sao ate 5 produtos' % (((df.Transaction_ID.value_counts() < 5).value_counts().iloc[0] / len(df.Transaction_ID.unique())) *100))"
   ]
  },
  {
   "cell_type": "markdown",
   "id": "639f9e0e",
   "metadata": {},
   "source": [
    "#### Mini analise clientes"
   ]
  },
  {
   "cell_type": "code",
   "execution_count": 7,
   "id": "c628b1e7",
   "metadata": {},
   "outputs": [
    {
     "data": {
      "text/plain": [
       "1660     228\n",
       "1665     222\n",
       "17104    218\n",
       "1685     191\n",
       "16905    179\n",
       "        ... \n",
       "5906       1\n",
       "21282      1\n",
       "20192      1\n",
       "21386      1\n",
       "11733      1\n",
       "Name: Customer_ID, Length: 22625, dtype: int64"
      ]
     },
     "execution_count": 7,
     "metadata": {},
     "output_type": "execute_result"
    }
   ],
   "source": [
    "# 22k de clientes, tendo media por volta de 6 compras por cliente\n",
    "df.Customer_ID.value_counts()"
   ]
  },
  {
   "cell_type": "markdown",
   "id": "a394bfc3",
   "metadata": {},
   "source": [
    "#### Mini analise produtos"
   ]
  },
  {
   "cell_type": "raw",
   "id": "b0893044",
   "metadata": {},
   "source": [
    "tanto os produtos quanto as categorias dos mesmos sao discretas nessa base de dados portanto é possivel apenas numericamente analisa-los, sem muito contexto de negocio"
   ]
  },
  {
   "cell_type": "code",
   "execution_count": 170,
   "id": "7ed40368",
   "metadata": {},
   "outputs": [
    {
     "data": {
      "text/plain": [
       "UNJKW    2007\n",
       "COWU2     791\n",
       "OV1P9     737\n",
       "M6J9W     698\n",
       "C6TXL     689\n",
       "         ... \n",
       "DV08L       1\n",
       "NXHF1       1\n",
       "4YL6Q       1\n",
       "T6EUH       1\n",
       "9E9GV       1\n",
       "Name: SKU, Length: 5242, dtype: int64"
      ]
     },
     "execution_count": 170,
     "metadata": {},
     "output_type": "execute_result"
    }
   ],
   "source": [
    "# 5242 produtos disponiveis caso todos produtos tenham sido vendidos pelo menos uma vez naquele ano\n",
    "df.SKU.value_counts()"
   ]
  },
  {
   "cell_type": "markdown",
   "id": "568c31eb",
   "metadata": {},
   "source": [
    "##### categorias dos produtos"
   ]
  },
  {
   "cell_type": "code",
   "execution_count": 8,
   "id": "9196a69f",
   "metadata": {},
   "outputs": [
    {
     "data": {
      "text/plain": [
       "N8U    10913\n",
       "R6E     5099\n",
       "LPF     5062\n",
       "P42     4836\n",
       "U5F     4570\n",
       "       ...  \n",
       "M8H        3\n",
       "U3N        2\n",
       "QON        1\n",
       "2JO        1\n",
       "OTK        1\n",
       "Name: SKU_Category, Length: 187, dtype: int64"
      ]
     },
     "execution_count": 8,
     "metadata": {},
     "output_type": "execute_result"
    }
   ],
   "source": [
    "df.SKU_Category.value_counts()"
   ]
  },
  {
   "cell_type": "code",
   "execution_count": 63,
   "id": "bd950e22",
   "metadata": {},
   "outputs": [
    {
     "data": {
      "text/plain": [
       "N8U    10913\n",
       "R6E     5099\n",
       "LPF     5062\n",
       "P42     4836\n",
       "U5F     4570\n",
       "0H2     4500\n",
       "IEV     4305\n",
       "FEW     3164\n",
       "29A     3033\n",
       "H15     3011\n",
       "Name: SKU_Category, dtype: int64"
      ]
     },
     "execution_count": 63,
     "metadata": {},
     "output_type": "execute_result"
    }
   ],
   "source": [
    "# 1.1 Loja possui uma categoria chefe que destoa das outras com o dobro de vendas em relaçao a segunda, mas que porem possui\n",
    "# ... menos de 10% das compras da loja, o que leva a crer que a loja nao depende exclusivamente dessa nem de nenhuma outra \n",
    "# ... categoria para sua essencialidade(claro, sem desprezar que ainda é a categoria mais vendida da loja)\n",
    "df.SKU_Category.value_counts()[:10]"
   ]
  },
  {
   "cell_type": "code",
   "execution_count": 67,
   "id": "7bf6d7f9",
   "metadata": {},
   "outputs": [
    {
     "data": {
      "text/plain": [
       "False    172\n",
       "True      15\n",
       "Name: SKU_Category, dtype: int64"
      ]
     },
     "execution_count": 67,
     "metadata": {},
     "output_type": "execute_result"
    }
   ],
   "source": [
    "# 1.1 Apenas 15 das 187 categorias tem menos de 10 vendas, o que leva a crer \n",
    "# ... que a grande maioria das categorias sao relevantes para a loja\n",
    "(df.SKU_Category.value_counts() < 10).value_counts()"
   ]
  },
  {
   "cell_type": "markdown",
   "id": "89f9de76",
   "metadata": {},
   "source": [
    "# As analises anteriores sao instrutivas mas faltam uma informaçao muito importante que é a receita gerada dos produtos vendidos em relaçao a receita total, para isso a base de dados sera reorganizada e mais a frente refeita a analise "
   ]
  },
  {
   "cell_type": "raw",
   "id": "ec4f70ef",
   "metadata": {},
   "source": [
    "nota-se que a criaçao das bases de dados a seguir é mais uma reorganizaçao, onde sera feita uma melhor visualizaçao dos dados possuindo vantagens para novas analises e recomendaçoes"
   ]
  },
  {
   "cell_type": "markdown",
   "id": "81dcd167",
   "metadata": {},
   "source": [
    "### Criando base de dados de produtos"
   ]
  },
  {
   "cell_type": "code",
   "execution_count": null,
   "id": "cda69ac9",
   "metadata": {},
   "outputs": [],
   "source": [
    "# 1.1 Base de dados carece de informaçao de estoque\n",
    "# 1.2 Preços possuem variaçoes cujos alguns podem ser facilmente classificados como descontos ou aumento/diminuiçao de preço do\n",
    "# ... produto, porem por vezes fica dificil o entendimento, entao optei por usar uma media de faturamento por unidades vendidas,\n",
    "# ... ou seja usando um preço medio ao inves de um preço fixo de produto\n",
    "# 1.3 Uma facilitaçao interessante seria colocar em cada linha/row (que contem as informaçoes separadas dos produtos) adicionar\n",
    "# ... uma coluna contendo um dicionario contendo os produtos que ja foram vendidos com o produto em questao e quantas vezes\n",
    "# ... esses produtos foram comprados em conjunto(como em um algoritimo apriori), entao fiz uma tentativa de como essa coluna \n",
    "# ... poderia ficar no pior cenario possivel, que é provavelmente com o produto que mais vezes foi vendido que deve possuir a\n",
    "# ... maior quantidade de produtos que foram vendidos juntamente a ele, essa tentativa esta feita no final do notebook e foi\n",
    "# ... concluido que seria incompativel com a intençao da base de dados e que se o algoritimo for necessario no futuro entao\n",
    "# ... sera feito em um lugar separado"
   ]
  },
  {
   "cell_type": "code",
   "execution_count": 70,
   "id": "c1e70440",
   "metadata": {},
   "outputs": [
    {
     "data": {
      "text/html": [
       "<div>\n",
       "<style scoped>\n",
       "    .dataframe tbody tr th:only-of-type {\n",
       "        vertical-align: middle;\n",
       "    }\n",
       "\n",
       "    .dataframe tbody tr th {\n",
       "        vertical-align: top;\n",
       "    }\n",
       "\n",
       "    .dataframe thead th {\n",
       "        text-align: right;\n",
       "    }\n",
       "</style>\n",
       "<table border=\"1\" class=\"dataframe\">\n",
       "  <thead>\n",
       "    <tr style=\"text-align: right;\">\n",
       "      <th></th>\n",
       "      <th>SKU</th>\n",
       "      <th>SKU_Category</th>\n",
       "      <th>Units_Sold</th>\n",
       "      <th>Total_Amount</th>\n",
       "      <th>Unit_Amount_Average</th>\n",
       "    </tr>\n",
       "  </thead>\n",
       "  <tbody>\n",
       "  </tbody>\n",
       "</table>\n",
       "</div>"
      ],
      "text/plain": [
       "Empty DataFrame\n",
       "Columns: [SKU, SKU_Category, Units_Sold, Total_Amount, Unit_Amount_Average]\n",
       "Index: []"
      ]
     },
     "execution_count": 70,
     "metadata": {},
     "output_type": "execute_result"
    }
   ],
   "source": [
    "products = pd.DataFrame(columns=['SKU', 'SKU_Category', \"Units_Sold\", \"Total_Amount\",'Unit_Amount_Average'])\n",
    "products"
   ]
  },
  {
   "cell_type": "code",
   "execution_count": 71,
   "id": "a980af26",
   "metadata": {},
   "outputs": [
    {
     "name": "stdout",
     "output_type": "stream",
     "text": [
      "Wall time: 10.7 s\n"
     ]
    }
   ],
   "source": [
    "%%time\n",
    "for sku, data in df.groupby(['SKU']):\n",
    "    Unit_Amount_Average = data.Sales_Amount.sum()/data.Quantity.sum()\n",
    "    products.loc[len(products.index)] = [sku, data.SKU_Category.iloc[0], data.Quantity.sum(), data.Sales_Amount.sum(), Unit_Amount_Average]"
   ]
  },
  {
   "cell_type": "code",
   "execution_count": 72,
   "id": "9eda19e8",
   "metadata": {},
   "outputs": [
    {
     "data": {
      "text/html": [
       "<div>\n",
       "<style scoped>\n",
       "    .dataframe tbody tr th:only-of-type {\n",
       "        vertical-align: middle;\n",
       "    }\n",
       "\n",
       "    .dataframe tbody tr th {\n",
       "        vertical-align: top;\n",
       "    }\n",
       "\n",
       "    .dataframe thead th {\n",
       "        text-align: right;\n",
       "    }\n",
       "</style>\n",
       "<table border=\"1\" class=\"dataframe\">\n",
       "  <thead>\n",
       "    <tr style=\"text-align: right;\">\n",
       "      <th></th>\n",
       "      <th>SKU</th>\n",
       "      <th>SKU_Category</th>\n",
       "      <th>Units_Sold</th>\n",
       "      <th>Total_Amount</th>\n",
       "      <th>Unit_Amount_Average</th>\n",
       "    </tr>\n",
       "  </thead>\n",
       "  <tbody>\n",
       "    <tr>\n",
       "      <th>0</th>\n",
       "      <td>00GVC</td>\n",
       "      <td>1TS</td>\n",
       "      <td>2.00</td>\n",
       "      <td>35.36</td>\n",
       "      <td>17.68</td>\n",
       "    </tr>\n",
       "    <tr>\n",
       "      <th>1</th>\n",
       "      <td>00OK1</td>\n",
       "      <td>J4R</td>\n",
       "      <td>18.00</td>\n",
       "      <td>22.91</td>\n",
       "      <td>1.27</td>\n",
       "    </tr>\n",
       "    <tr>\n",
       "      <th>2</th>\n",
       "      <td>0121I</td>\n",
       "      <td>XG4</td>\n",
       "      <td>31.00</td>\n",
       "      <td>62.74</td>\n",
       "      <td>2.02</td>\n",
       "    </tr>\n",
       "    <tr>\n",
       "      <th>3</th>\n",
       "      <td>01IEO</td>\n",
       "      <td>XVK</td>\n",
       "      <td>43.00</td>\n",
       "      <td>268.00</td>\n",
       "      <td>6.23</td>\n",
       "    </tr>\n",
       "    <tr>\n",
       "      <th>4</th>\n",
       "      <td>01IQT</td>\n",
       "      <td>Z4O</td>\n",
       "      <td>7.00</td>\n",
       "      <td>9.22</td>\n",
       "      <td>1.32</td>\n",
       "    </tr>\n",
       "  </tbody>\n",
       "</table>\n",
       "</div>"
      ],
      "text/plain": [
       "     SKU SKU_Category  Units_Sold  Total_Amount  Unit_Amount_Average\n",
       "0  00GVC          1TS        2.00         35.36                17.68\n",
       "1  00OK1          J4R       18.00         22.91                 1.27\n",
       "2  0121I          XG4       31.00         62.74                 2.02\n",
       "3  01IEO          XVK       43.00        268.00                 6.23\n",
       "4  01IQT          Z4O        7.00          9.22                 1.32"
      ]
     },
     "execution_count": 72,
     "metadata": {},
     "output_type": "execute_result"
    }
   ],
   "source": [
    "products.head(5)"
   ]
  },
  {
   "cell_type": "markdown",
   "id": "82e3f5e2",
   "metadata": {},
   "source": [
    "###  Criando base de dados de clientes"
   ]
  },
  {
   "cell_type": "code",
   "execution_count": null,
   "id": "904666ea",
   "metadata": {},
   "outputs": [],
   "source": [
    "# 1.1 Para base de clientes, decidi colocar o maximo de informaçoes que podem vir a serem uteis possiveis, como por exemplo\n",
    "# ... quando foi a primeira e ultima compra do cliente(que aparecem como mesma data caso o cliente tenha comprado apenas 1x),\n",
    "# ... valores e quantidade de pedidos e produtos comprados\n",
    "# 1.2 Em um caso similar a base de dados de produtos, decidi agregar colunas de dicionarios de produtos e suas categorias que o\n",
    "# ... cliente ja comprou assim como as quantidades compradas dos mesmos, que possui menos casos de colunas gigantescas, e\n",
    "# ... quando se tem esses casos, casos menores"
   ]
  },
  {
   "cell_type": "code",
   "execution_count": 76,
   "id": "caf81352",
   "metadata": {},
   "outputs": [
    {
     "data": {
      "text/html": [
       "<div>\n",
       "<style scoped>\n",
       "    .dataframe tbody tr th:only-of-type {\n",
       "        vertical-align: middle;\n",
       "    }\n",
       "\n",
       "    .dataframe tbody tr th {\n",
       "        vertical-align: top;\n",
       "    }\n",
       "\n",
       "    .dataframe thead th {\n",
       "        text-align: right;\n",
       "    }\n",
       "</style>\n",
       "<table border=\"1\" class=\"dataframe\">\n",
       "  <thead>\n",
       "    <tr style=\"text-align: right;\">\n",
       "      <th></th>\n",
       "      <th>Customer_ID</th>\n",
       "      <th>SKU_Category</th>\n",
       "      <th>SKU</th>\n",
       "      <th>Average_Transaction_Amount</th>\n",
       "      <th>Total_Transactions</th>\n",
       "      <th>Total_Products</th>\n",
       "      <th>Total_Spent</th>\n",
       "      <th>First_Order_Date</th>\n",
       "      <th>Last_Order_Date</th>\n",
       "    </tr>\n",
       "  </thead>\n",
       "  <tbody>\n",
       "  </tbody>\n",
       "</table>\n",
       "</div>"
      ],
      "text/plain": [
       "Empty DataFrame\n",
       "Columns: [Customer_ID, SKU_Category, SKU, Average_Transaction_Amount, Total_Transactions, Total_Products, Total_Spent, First_Order_Date, Last_Order_Date]\n",
       "Index: []"
      ]
     },
     "execution_count": 76,
     "metadata": {},
     "output_type": "execute_result"
    }
   ],
   "source": [
    "customers = pd.DataFrame(columns=['Customer_ID', 'SKU_Category', 'SKU', 'Average_Transaction_Amount', 'Total_Transactions', 'Total_Products', 'Total_Spent', \"First_Order_Date\", \"Last_Order_Date\"])\n",
    "customers"
   ]
  },
  {
   "cell_type": "code",
   "execution_count": 77,
   "id": "f38f1f65",
   "metadata": {},
   "outputs": [
    {
     "name": "stdout",
     "output_type": "stream",
     "text": [
      "Wall time: 1min 34s\n"
     ]
    }
   ],
   "source": [
    "%%time\n",
    "for cID, data in df.groupby(['Customer_ID']):\n",
    "    skus = dict(Counter(data.SKU.to_list()).most_common())\n",
    "    skucs = dict(Counter(data.SKU_Category.to_list()).most_common())\n",
    "    ata = data.Sales_Amount.sum() / len(data.Transaction_ID.unique())\n",
    "    customers.loc[len(customers.index)] = [cID, skucs, skus, ata, len(data.Transaction_ID.unique()), data.Quantity.sum(),\n",
    "                                           data.Sales_Amount.sum(), data.Date.min(), data.Date.max()]"
   ]
  },
  {
   "cell_type": "code",
   "execution_count": 78,
   "id": "422b914c",
   "metadata": {},
   "outputs": [
    {
     "data": {
      "text/html": [
       "<div>\n",
       "<style scoped>\n",
       "    .dataframe tbody tr th:only-of-type {\n",
       "        vertical-align: middle;\n",
       "    }\n",
       "\n",
       "    .dataframe tbody tr th {\n",
       "        vertical-align: top;\n",
       "    }\n",
       "\n",
       "    .dataframe thead th {\n",
       "        text-align: right;\n",
       "    }\n",
       "</style>\n",
       "<table border=\"1\" class=\"dataframe\">\n",
       "  <thead>\n",
       "    <tr style=\"text-align: right;\">\n",
       "      <th></th>\n",
       "      <th>Customer_ID</th>\n",
       "      <th>SKU_Category</th>\n",
       "      <th>SKU</th>\n",
       "      <th>Average_Transaction_Amount</th>\n",
       "      <th>Total_Transactions</th>\n",
       "      <th>Total_Products</th>\n",
       "      <th>Total_Spent</th>\n",
       "      <th>First_Order_Date</th>\n",
       "      <th>Last_Order_Date</th>\n",
       "    </tr>\n",
       "  </thead>\n",
       "  <tbody>\n",
       "    <tr>\n",
       "      <th>0</th>\n",
       "      <td>1</td>\n",
       "      <td>{'0H2': 1, 'N8U': 1}</td>\n",
       "      <td>{'6OUVC': 1, 'CEBU8': 1}</td>\n",
       "      <td>16.29</td>\n",
       "      <td>1</td>\n",
       "      <td>2.00</td>\n",
       "      <td>16.29</td>\n",
       "      <td>2016-01-22</td>\n",
       "      <td>2016-01-22</td>\n",
       "    </tr>\n",
       "    <tr>\n",
       "      <th>1</th>\n",
       "      <td>2</td>\n",
       "      <td>{'TVL': 1, 'F9B': 1}</td>\n",
       "      <td>{'2SLS0': 1, 'GZ6VU': 1}</td>\n",
       "      <td>11.38</td>\n",
       "      <td>2</td>\n",
       "      <td>2.00</td>\n",
       "      <td>22.77</td>\n",
       "      <td>2016-03-24</td>\n",
       "      <td>2016-06-19</td>\n",
       "    </tr>\n",
       "    <tr>\n",
       "      <th>2</th>\n",
       "      <td>3</td>\n",
       "      <td>{'TW8': 2, 'LPF': 1}</td>\n",
       "      <td>{'Y1M2E': 1, 'WHV3G': 1, 'WALAE': 1}</td>\n",
       "      <td>10.92</td>\n",
       "      <td>1</td>\n",
       "      <td>4.00</td>\n",
       "      <td>10.92</td>\n",
       "      <td>2016-01-02</td>\n",
       "      <td>2016-01-02</td>\n",
       "    </tr>\n",
       "    <tr>\n",
       "      <th>3</th>\n",
       "      <td>4</td>\n",
       "      <td>{'69B': 1, 'YMJ': 1, '29A': 1, 'N8U': 1, 'JR5'...</td>\n",
       "      <td>{'APEJQ': 1, 'QR49F': 1, 'RBNO8': 1, '89ULV': ...</td>\n",
       "      <td>16.64</td>\n",
       "      <td>2</td>\n",
       "      <td>5.00</td>\n",
       "      <td>33.29</td>\n",
       "      <td>2016-07-11</td>\n",
       "      <td>2016-11-09</td>\n",
       "    </tr>\n",
       "    <tr>\n",
       "      <th>4</th>\n",
       "      <td>5</td>\n",
       "      <td>{'P42': 4, 'LGI': 1}</td>\n",
       "      <td>{'DMJ70': 4, 'EIFZN': 1}</td>\n",
       "      <td>15.76</td>\n",
       "      <td>5</td>\n",
       "      <td>14.00</td>\n",
       "      <td>78.82</td>\n",
       "      <td>2016-02-09</td>\n",
       "      <td>2016-07-05</td>\n",
       "    </tr>\n",
       "  </tbody>\n",
       "</table>\n",
       "</div>"
      ],
      "text/plain": [
       "   Customer_ID                                       SKU_Category  \\\n",
       "0            1                               {'0H2': 1, 'N8U': 1}   \n",
       "1            2                               {'TVL': 1, 'F9B': 1}   \n",
       "2            3                               {'TW8': 2, 'LPF': 1}   \n",
       "3            4  {'69B': 1, 'YMJ': 1, '29A': 1, 'N8U': 1, 'JR5'...   \n",
       "4            5                               {'P42': 4, 'LGI': 1}   \n",
       "\n",
       "                                                 SKU  \\\n",
       "0                           {'6OUVC': 1, 'CEBU8': 1}   \n",
       "1                           {'2SLS0': 1, 'GZ6VU': 1}   \n",
       "2               {'Y1M2E': 1, 'WHV3G': 1, 'WALAE': 1}   \n",
       "3  {'APEJQ': 1, 'QR49F': 1, 'RBNO8': 1, '89ULV': ...   \n",
       "4                           {'DMJ70': 4, 'EIFZN': 1}   \n",
       "\n",
       "   Average_Transaction_Amount  Total_Transactions  Total_Products  \\\n",
       "0                       16.29                   1            2.00   \n",
       "1                       11.38                   2            2.00   \n",
       "2                       10.92                   1            4.00   \n",
       "3                       16.64                   2            5.00   \n",
       "4                       15.76                   5           14.00   \n",
       "\n",
       "   Total_Spent First_Order_Date Last_Order_Date  \n",
       "0        16.29       2016-01-22      2016-01-22  \n",
       "1        22.77       2016-03-24      2016-06-19  \n",
       "2        10.92       2016-01-02      2016-01-02  \n",
       "3        33.29       2016-07-11      2016-11-09  \n",
       "4        78.82       2016-02-09      2016-07-05  "
      ]
     },
     "execution_count": 78,
     "metadata": {},
     "output_type": "execute_result"
    }
   ],
   "source": [
    "customers.head(5)"
   ]
  },
  {
   "cell_type": "markdown",
   "id": "5d91548b",
   "metadata": {},
   "source": [
    "### Nova base de transaçoes "
   ]
  },
  {
   "cell_type": "code",
   "execution_count": 4,
   "id": "4ee702f4",
   "metadata": {},
   "outputs": [
    {
     "data": {
      "text/plain": [
       "Index(['Unnamed: 0', 'Date', 'Customer_ID', 'Transaction_ID', 'SKU_Category',\n",
       "       'SKU', 'Quantity', 'Sales_Amount'],\n",
       "      dtype='object')"
      ]
     },
     "execution_count": 4,
     "metadata": {},
     "output_type": "execute_result"
    }
   ],
   "source": [
    "df.columns"
   ]
  },
  {
   "cell_type": "code",
   "execution_count": 5,
   "id": "b1ccf647",
   "metadata": {},
   "outputs": [
    {
     "data": {
      "text/plain": [
       "Index(['Transaction_P_ID', 'Date', 'Customer_ID', 'Transaction_ID',\n",
       "       'SKU_Category', 'SKU', 'Quantity', 'Sales_Amount'],\n",
       "      dtype='object')"
      ]
     },
     "execution_count": 5,
     "metadata": {},
     "output_type": "execute_result"
    }
   ],
   "source": [
    "# 1.1 Renomeando coluna de 'index'\n",
    "# 1.2 Nova base possue tambem Date como atributo pandas que foi tratado antes no codigo\n",
    "df = df.rename(columns={\"Unnamed: 0\": 'Transaction_P_ID'})\n",
    "df.columns"
   ]
  },
  {
   "cell_type": "markdown",
   "id": "0df55c6a",
   "metadata": {},
   "source": [
    "### Salvando novas bases de dados "
   ]
  },
  {
   "cell_type": "code",
   "execution_count": 79,
   "id": "5caa416a",
   "metadata": {},
   "outputs": [],
   "source": [
    "customers.to_csv(\"customers_1.csv\", index = False)"
   ]
  },
  {
   "cell_type": "code",
   "execution_count": 80,
   "id": "75b2d726",
   "metadata": {},
   "outputs": [],
   "source": [
    "# 1.1 Ids de produtos sao strings entao achei pertinente deixar um id numerico\n",
    "products.to_csv(\"products_1.csv\", index_label = \"SKU_N\")"
   ]
  },
  {
   "cell_type": "code",
   "execution_count": 6,
   "id": "c4228381",
   "metadata": {},
   "outputs": [],
   "source": [
    "df.to_csv(\"transactions_1.csv\", index = False)"
   ]
  },
  {
   "cell_type": "markdown",
   "id": "8c08fbd8",
   "metadata": {},
   "source": [
    "## Tentativa base de dados de produtos com coluna de compras conjuntas"
   ]
  },
  {
   "cell_type": "code",
   "execution_count": 81,
   "id": "d640c3e0",
   "metadata": {},
   "outputs": [
    {
     "data": {
      "text/plain": [
       "UNJKW    2007\n",
       "COWU2     791\n",
       "OV1P9     737\n",
       "M6J9W     698\n",
       "C6TXL     689\n",
       "Name: SKU, dtype: int64"
      ]
     },
     "execution_count": 81,
     "metadata": {},
     "output_type": "execute_result"
    }
   ],
   "source": [
    "# 1.1 O feito abaixo é a verificaçao da viabilidade de sentido de na base criada anteriormente de produtos ter uma coluna com um\n",
    "# ... dicionario com os produtos que mais sao vendidos juntos com ele e a quantidade de vezes do acontecimento\n",
    "# 1.2 Para isso foi pego o que *deve* ser o pior cenario possivel que é o produto mais vendido e feita uma visualizaçao de como\n",
    "# ... ficaria na pratica se a coluna fosse implementada\n",
    "# 1.3 Pior cenario -> UNJKW(SERA CHAMADO DE PMV - PRODUTO MAIS VENDIDO), que foi vendido mais de 2000 vezes,\n",
    "# ... com larga vantagem em relaçao ao proximo produto\n",
    "df.SKU.value_counts()[:5]"
   ]
  },
  {
   "cell_type": "code",
   "execution_count": 84,
   "id": "dc5f7e91",
   "metadata": {},
   "outputs": [
    {
     "data": {
      "text/html": [
       "<div>\n",
       "<style scoped>\n",
       "    .dataframe tbody tr th:only-of-type {\n",
       "        vertical-align: middle;\n",
       "    }\n",
       "\n",
       "    .dataframe tbody tr th {\n",
       "        vertical-align: top;\n",
       "    }\n",
       "\n",
       "    .dataframe thead th {\n",
       "        text-align: right;\n",
       "    }\n",
       "</style>\n",
       "<table border=\"1\" class=\"dataframe\">\n",
       "  <thead>\n",
       "    <tr style=\"text-align: right;\">\n",
       "      <th></th>\n",
       "      <th>Unnamed: 0</th>\n",
       "      <th>Date</th>\n",
       "      <th>Customer_ID</th>\n",
       "      <th>Transaction_ID</th>\n",
       "      <th>SKU_Category</th>\n",
       "      <th>SKU</th>\n",
       "      <th>Quantity</th>\n",
       "      <th>Sales_Amount</th>\n",
       "    </tr>\n",
       "  </thead>\n",
       "  <tbody>\n",
       "    <tr>\n",
       "      <th>56841</th>\n",
       "      <td>56842</td>\n",
       "      <td>2016-06-07</td>\n",
       "      <td>15256</td>\n",
       "      <td>28284</td>\n",
       "      <td>N8U</td>\n",
       "      <td>UNJKW</td>\n",
       "      <td>1.00</td>\n",
       "      <td>2.11</td>\n",
       "    </tr>\n",
       "    <tr>\n",
       "      <th>63970</th>\n",
       "      <td>63971</td>\n",
       "      <td>2016-06-27</td>\n",
       "      <td>17698</td>\n",
       "      <td>31730</td>\n",
       "      <td>N8U</td>\n",
       "      <td>UNJKW</td>\n",
       "      <td>1.00</td>\n",
       "      <td>2.11</td>\n",
       "    </tr>\n",
       "    <tr>\n",
       "      <th>75389</th>\n",
       "      <td>75390</td>\n",
       "      <td>2016-08-31</td>\n",
       "      <td>13209</td>\n",
       "      <td>41571</td>\n",
       "      <td>N8U</td>\n",
       "      <td>UNJKW</td>\n",
       "      <td>2.00</td>\n",
       "      <td>4.23</td>\n",
       "    </tr>\n",
       "  </tbody>\n",
       "</table>\n",
       "</div>"
      ],
      "text/plain": [
       "       Unnamed: 0       Date  Customer_ID  Transaction_ID SKU_Category    SKU  \\\n",
       "56841       56842 2016-06-07        15256           28284          N8U  UNJKW   \n",
       "63970       63971 2016-06-27        17698           31730          N8U  UNJKW   \n",
       "75389       75390 2016-08-31        13209           41571          N8U  UNJKW   \n",
       "\n",
       "       Quantity  Sales_Amount  \n",
       "56841      1.00          2.11  \n",
       "63970      1.00          2.11  \n",
       "75389      2.00          4.23  "
      ]
     },
     "execution_count": 84,
     "metadata": {},
     "output_type": "execute_result"
    }
   ],
   "source": [
    "# 1.1 Agrupando a base de dados com apenas os dados que tiveram o PMV\n",
    "MOST_SKU_APRIORI = df[df['SKU'] == 'UNJKW']\n",
    "MOST_SKU_APRIORI.sample(3)"
   ]
  },
  {
   "cell_type": "code",
   "execution_count": 87,
   "id": "7fe80f01",
   "metadata": {},
   "outputs": [
    {
     "data": {
      "text/plain": [
       "64682"
      ]
     },
     "execution_count": 87,
     "metadata": {},
     "output_type": "execute_result"
    }
   ],
   "source": [
    "# 1.1 Agrupamento por transaçao, com objetivo de verificar em quais transaçoes o PMV aparece e contar suas compras casadas\n",
    "transactions_frames = df.groupby(['Transaction_ID'])\n",
    "len(transactions_frames)"
   ]
  },
  {
   "cell_type": "code",
   "execution_count": 88,
   "id": "2faa22d2",
   "metadata": {
    "scrolled": true
   },
   "outputs": [],
   "source": [
    "# 1.1 Colocando os ids de transaçoes que o PMV aparece em uma lista para ser iterado\n",
    "MOST_SKU_APRIORI_TRANSACTIONS = MOST_SKU_APRIORI.Transaction_ID.to_list()"
   ]
  },
  {
   "cell_type": "code",
   "execution_count": 89,
   "id": "1e21c0d9",
   "metadata": {},
   "outputs": [
    {
     "name": "stdout",
     "output_type": "stream",
     "text": [
      "Wall time: 545 ms\n"
     ]
    }
   ],
   "source": [
    "%%time\n",
    "# 1.1 Adiciono a uma lista dos produtos que foram comprados juntos com ele\n",
    "dic_test = []\n",
    "for i in MOST_SKU_APRIORI_TRANSACTIONS:\n",
    "    dic_test = dic_test + transactions_frames.get_group(i).SKU.to_list()"
   ]
  },
  {
   "cell_type": "code",
   "execution_count": 90,
   "id": "7b23a59c",
   "metadata": {
    "scrolled": true
   },
   "outputs": [],
   "source": [
    "# 1.1 Uso counter para agrupar e contar os produtos\n",
    "dic_test_counted = Counter(dic_test)"
   ]
  },
  {
   "cell_type": "code",
   "execution_count": 46,
   "id": "b1a4d140",
   "metadata": {},
   "outputs": [
    {
     "data": {
      "text/plain": [
       "1143"
      ]
     },
     "execution_count": 46,
     "metadata": {},
     "output_type": "execute_result"
    }
   ],
   "source": [
    "# 1.1 Foram 1143 produtos comprados juntos com o PMV, queria seria completamente sem cabimento colocar em uma celular de uma\n",
    "# ... base de dados um dicionario de 1143 itens de tamanho\n",
    "len(dic_test_counted)"
   ]
  },
  {
   "cell_type": "code",
   "execution_count": 92,
   "id": "5aa609bd",
   "metadata": {},
   "outputs": [
    {
     "name": "stdout",
     "output_type": "stream",
     "text": [
      "[('UNJKW', 2007), ('COWU2', 71), ('OV1P9', 57), ('M6J9W', 47), ('UQC6F', 40)]\n",
      "[('NZR88', 1), ('I1MDT', 1), ('RBNO8', 1), ('MZVSL', 1), ('E6O8G', 1)]\n"
     ]
    }
   ],
   "source": [
    "# 1.1 Para descartar completamente essa possibilidade pensei em agrupar o dicionario por vezes que tal produto aparece com ele\n",
    "# ... ou seja, o que antes seria um dicionario de (produto, quantidade) passaria para (quantidade, produto(s)), assim\n",
    "# ... diminuindo um pouco o tamanho pela repetiçao de apariçao\n",
    "# 1.2 Ordenando e visualisando os mais comuns (claro que ele proprio seria apagado se fosse utilizado na pratica)\n",
    "dic_test_counted_ordered = dic_test_counted.most_common()\n",
    "print(dic_test_counted_ordered[:5])\n",
    "print(dic_test_counted_ordered[-5:]) # nova agrupaçao diminuiria a quantidade de informaçao desses exemplos principalmente"
   ]
  },
  {
   "cell_type": "code",
   "execution_count": 93,
   "id": "9971c383",
   "metadata": {},
   "outputs": [],
   "source": [
    "# 1.1 Feita nova agrupaçao e sem surpresas, fica menor mas sem sentido para o problema mesmo assim\n",
    "# 1.2 Print foi comentada por ser muit longa, mas sinta-se livre para baixar o codigo e ver por si proprio\n",
    "dic_test_counted_ordered_copy = dic_test_counted_ordered\n",
    "d = {}\n",
    "for key, value in dic_test_counted_ordered_copy:\n",
    "    if value not in d:\n",
    "        d[value] = [key]\n",
    "    else:\n",
    "        d[value].append(key)\n",
    "#print(d)"
   ]
  }
 ],
 "metadata": {
  "kernelspec": {
   "display_name": "Python 3 (ipykernel)",
   "language": "python",
   "name": "python3"
  },
  "language_info": {
   "codemirror_mode": {
    "name": "ipython",
    "version": 3
   },
   "file_extension": ".py",
   "mimetype": "text/x-python",
   "name": "python",
   "nbconvert_exporter": "python",
   "pygments_lexer": "ipython3",
   "version": "3.9.13"
  }
 },
 "nbformat": 4,
 "nbformat_minor": 5
}
