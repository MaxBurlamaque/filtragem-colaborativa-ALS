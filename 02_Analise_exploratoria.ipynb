{
 "cells": [
  {
   "cell_type": "markdown",
   "id": "688cc600",
   "metadata": {},
   "source": [
    "# Notebook 2: Analise de dados"
   ]
  },
  {
   "cell_type": "code",
   "execution_count": 4,
   "id": "d5cf5aae",
   "metadata": {},
   "outputs": [],
   "source": [
    "# 1.1 Faturamento\n",
    "# 1.1.1 Total\n",
    "# 1.1.2 Por mes\n",
    "# 1.1.3 Por dia da semana\n",
    "\n",
    "# 1.2 Qual o tamanho da desigualdade dos dados\n",
    "# 1.2.1 Clientes\n",
    "# 1.2.2 Produtos e categorias\n",
    "\n",
    "# 1.3 Recorrencia de clientes\n",
    "# 1.3.1 Distrubuiçao por mes de clientes\n",
    "\n",
    "# 1.4 Categorias para clientes\n",
    "# 1.4.1 Clientes nichados por categoria"
   ]
  },
  {
   "cell_type": "code",
   "execution_count": 1,
   "id": "e4133e04",
   "metadata": {},
   "outputs": [],
   "source": [
    "import warnings\n",
    "warnings.filterwarnings('ignore')\n",
    "\n",
    "import pandas as pd\n",
    "import numpy as np\n",
    "import matplotlib.pyplot as plt"
   ]
  },
  {
   "cell_type": "code",
   "execution_count": 2,
   "id": "ca0275d1",
   "metadata": {},
   "outputs": [],
   "source": [
    "#padroniza valores pandas\n",
    "pd.set_option('display.float_format', lambda x: '%.2f' % x)"
   ]
  },
  {
   "cell_type": "code",
   "execution_count": 3,
   "id": "0550269f",
   "metadata": {},
   "outputs": [],
   "source": [
    "# lendo datasets\n",
    "\n",
    "users = pd.read_csv(\"customers_1.csv\")\n",
    "\n",
    "prods = pd.read_csv(\"products_1.csv\")\n",
    "\n",
    "transfers = pd.read_csv(\"transactions_1.csv\")"
   ]
  },
  {
   "cell_type": "code",
   "execution_count": 368,
   "id": "8a95516b",
   "metadata": {},
   "outputs": [
    {
     "data": {
      "text/html": [
       "<div>\n",
       "<style scoped>\n",
       "    .dataframe tbody tr th:only-of-type {\n",
       "        vertical-align: middle;\n",
       "    }\n",
       "\n",
       "    .dataframe tbody tr th {\n",
       "        vertical-align: top;\n",
       "    }\n",
       "\n",
       "    .dataframe thead th {\n",
       "        text-align: right;\n",
       "    }\n",
       "</style>\n",
       "<table border=\"1\" class=\"dataframe\">\n",
       "  <thead>\n",
       "    <tr style=\"text-align: right;\">\n",
       "      <th></th>\n",
       "      <th>Customer_ID</th>\n",
       "      <th>SKU_Category</th>\n",
       "      <th>SKU</th>\n",
       "      <th>Average_Transaction_Amount</th>\n",
       "      <th>Total_Transactions</th>\n",
       "      <th>Total_Products</th>\n",
       "      <th>Total_Spent</th>\n",
       "      <th>First_Order_Date</th>\n",
       "      <th>Last_Order_Date</th>\n",
       "    </tr>\n",
       "  </thead>\n",
       "  <tbody>\n",
       "    <tr>\n",
       "      <th>0</th>\n",
       "      <td>1</td>\n",
       "      <td>{'0H2': 1, 'N8U': 1}</td>\n",
       "      <td>{'6OUVC': 1, 'CEBU8': 1}</td>\n",
       "      <td>16.29</td>\n",
       "      <td>1</td>\n",
       "      <td>2.00</td>\n",
       "      <td>16.29</td>\n",
       "      <td>2016-01-22</td>\n",
       "      <td>2016-01-22</td>\n",
       "    </tr>\n",
       "  </tbody>\n",
       "</table>\n",
       "</div>"
      ],
      "text/plain": [
       "   Customer_ID          SKU_Category                       SKU  \\\n",
       "0            1  {'0H2': 1, 'N8U': 1}  {'6OUVC': 1, 'CEBU8': 1}   \n",
       "\n",
       "   Average_Transaction_Amount  Total_Transactions  Total_Products  \\\n",
       "0                       16.29                   1            2.00   \n",
       "\n",
       "   Total_Spent First_Order_Date Last_Order_Date  \n",
       "0        16.29       2016-01-22      2016-01-22  "
      ]
     },
     "execution_count": 368,
     "metadata": {},
     "output_type": "execute_result"
    }
   ],
   "source": [
    "users.head(1)"
   ]
  },
  {
   "cell_type": "code",
   "execution_count": 369,
   "id": "17e3fc52",
   "metadata": {},
   "outputs": [
    {
     "data": {
      "text/html": [
       "<div>\n",
       "<style scoped>\n",
       "    .dataframe tbody tr th:only-of-type {\n",
       "        vertical-align: middle;\n",
       "    }\n",
       "\n",
       "    .dataframe tbody tr th {\n",
       "        vertical-align: top;\n",
       "    }\n",
       "\n",
       "    .dataframe thead th {\n",
       "        text-align: right;\n",
       "    }\n",
       "</style>\n",
       "<table border=\"1\" class=\"dataframe\">\n",
       "  <thead>\n",
       "    <tr style=\"text-align: right;\">\n",
       "      <th></th>\n",
       "      <th>SKU_N</th>\n",
       "      <th>SKU</th>\n",
       "      <th>SKU_Category</th>\n",
       "      <th>Units_Sold</th>\n",
       "      <th>Total_Amount</th>\n",
       "      <th>Unit_Amount_Average</th>\n",
       "    </tr>\n",
       "  </thead>\n",
       "  <tbody>\n",
       "    <tr>\n",
       "      <th>0</th>\n",
       "      <td>0</td>\n",
       "      <td>00GVC</td>\n",
       "      <td>1TS</td>\n",
       "      <td>2.00</td>\n",
       "      <td>35.36</td>\n",
       "      <td>17.68</td>\n",
       "    </tr>\n",
       "  </tbody>\n",
       "</table>\n",
       "</div>"
      ],
      "text/plain": [
       "   SKU_N    SKU SKU_Category  Units_Sold  Total_Amount  Unit_Amount_Average\n",
       "0      0  00GVC          1TS        2.00         35.36                17.68"
      ]
     },
     "execution_count": 369,
     "metadata": {},
     "output_type": "execute_result"
    }
   ],
   "source": [
    "prods.head(1)"
   ]
  },
  {
   "cell_type": "code",
   "execution_count": 370,
   "id": "03815c30",
   "metadata": {},
   "outputs": [
    {
     "data": {
      "text/html": [
       "<div>\n",
       "<style scoped>\n",
       "    .dataframe tbody tr th:only-of-type {\n",
       "        vertical-align: middle;\n",
       "    }\n",
       "\n",
       "    .dataframe tbody tr th {\n",
       "        vertical-align: top;\n",
       "    }\n",
       "\n",
       "    .dataframe thead th {\n",
       "        text-align: right;\n",
       "    }\n",
       "</style>\n",
       "<table border=\"1\" class=\"dataframe\">\n",
       "  <thead>\n",
       "    <tr style=\"text-align: right;\">\n",
       "      <th></th>\n",
       "      <th>Transaction_P_ID</th>\n",
       "      <th>Date</th>\n",
       "      <th>Customer_ID</th>\n",
       "      <th>Transaction_ID</th>\n",
       "      <th>SKU_Category</th>\n",
       "      <th>SKU</th>\n",
       "      <th>Quantity</th>\n",
       "      <th>Sales_Amount</th>\n",
       "    </tr>\n",
       "  </thead>\n",
       "  <tbody>\n",
       "    <tr>\n",
       "      <th>0</th>\n",
       "      <td>1</td>\n",
       "      <td>2016-01-02</td>\n",
       "      <td>2547</td>\n",
       "      <td>1</td>\n",
       "      <td>X52</td>\n",
       "      <td>0EM7L</td>\n",
       "      <td>1.00</td>\n",
       "      <td>3.13</td>\n",
       "    </tr>\n",
       "  </tbody>\n",
       "</table>\n",
       "</div>"
      ],
      "text/plain": [
       "   Transaction_P_ID       Date  Customer_ID  Transaction_ID SKU_Category  \\\n",
       "0                 1 2016-01-02         2547               1          X52   \n",
       "\n",
       "     SKU  Quantity  Sales_Amount  \n",
       "0  0EM7L      1.00          3.13  "
      ]
     },
     "execution_count": 370,
     "metadata": {},
     "output_type": "execute_result"
    }
   ],
   "source": [
    "transfers.head(1)"
   ]
  },
  {
   "cell_type": "markdown",
   "id": "c0968f9c",
   "metadata": {},
   "source": [
    "# 1.1 Vendas"
   ]
  },
  {
   "cell_type": "markdown",
   "id": "7c3405c3",
   "metadata": {},
   "source": [
    "## 1.1.1 Total"
   ]
  },
  {
   "cell_type": "code",
   "execution_count": 428,
   "id": "0bf26e0f",
   "metadata": {},
   "outputs": [
    {
     "name": "stdout",
     "output_type": "stream",
     "text": [
      "1,578,038$ de faturamento no ano em questao\n",
      "\n",
      "195,624 produtos vendidos\n",
      "\n",
      "64,682 carrinhos comprados\n",
      "\n",
      "22,625 clientes comprara na loja\n",
      "\n",
      "4,323$ de faturamento por dia\n"
     ]
    }
   ],
   "source": [
    "print('{0:,}$ de faturamento no ano em questao\\n'.format(int(transfers.Sales_Amount.sum())))\n",
    "print('{0:,} produtos vendidos\\n'.format(int(prods.Units_Sold.sum())))\n",
    "print('{0:,} carrinhos comprados\\n'.format(len(transfers.Transaction_ID.unique())))\n",
    "print('{0:,} clientes comprara na loja\\n'.format(users.shape[0]))\n",
    "print('{0:,}$ de faturamento por dia'.format(int(transfers.Sales_Amount.sum()/365)))"
   ]
  },
  {
   "cell_type": "markdown",
   "id": "4277bab9",
   "metadata": {},
   "source": [
    "## 1.1.2 Por mes"
   ]
  },
  {
   "cell_type": "code",
   "execution_count": 15,
   "id": "2aaab78e",
   "metadata": {},
   "outputs": [],
   "source": [
    "transfers['Date'] = pd.to_datetime(transfers['Date'], format='%Y-%m-%d')"
   ]
  },
  {
   "cell_type": "code",
   "execution_count": 410,
   "id": "2dc56295",
   "metadata": {},
   "outputs": [
    {
     "data": {
      "image/png": "[encoded data removed]",
      "text/plain": [
       "<Figure size 640x480 with 1 Axes>"
      ]
     },
     "metadata": {},
     "output_type": "display_data"
    }
   ],
   "source": [
    "# 1.1 Pode-se observar uma distribuiçao normal ao redor do mes de maio, com crescimento maior a partir de setembro e auge em \n",
    "# ... dezembro, é de se manter na cabeça de que o crescimento de fim de ano é provavel que nao esteja, mas pode estar\n",
    "# ... atrelado ao crescimento da loja em si, entao os numeros podem ser menos atenuantes em anos de estabilidade\n",
    "faturamento_mes = []\n",
    "for i in transfers.groupby('Date'):\n",
    "    p1 = [i[0].month, i[1].Sales_Amount.sum()]\n",
    "    faturamento_mes.append(p1)\n",
    "fatm = pd.DataFrame(faturamento_mes)\n",
    "fatm2 = fatm.groupby(0)\n",
    "fatm3 = pd.DataFrame(columns=['mes', 'fatura'])\n",
    "for i in fatm2:\n",
    "    fatm3.loc[len(fatm3.index)] = [i[0], i[1][1].sum()]\n",
    "fatm3.plot(kind='bar', x='mes', y='fatura')\n",
    "\n",
    "xlocs=[i+1 for i in range(0,12)]\n",
    "\n",
    "for i, v in enumerate(fatm3.fatura.to_list()):\n",
    "    plt.text(xlocs[i] - 1.4, v + 1000, '{0:,}K'.format(int(v/1000)))\n",
    "\n",
    "plt.ylabel(\"faturamento\")\n",
    "    \n",
    "plt.show()"
   ]
  },
  {
   "cell_type": "markdown",
   "id": "0726ba33",
   "metadata": {},
   "source": [
    "## 1.1.3 Por dia da semana"
   ]
  },
  {
   "cell_type": "code",
   "execution_count": 424,
   "id": "e3103967",
   "metadata": {},
   "outputs": [
    {
     "data": {
      "image/png": "[encoded data removed]",
      "text/plain": [
       "<Figure size 640x480 with 1 Axes>"
      ]
     },
     "metadata": {},
     "output_type": "display_data"
    }
   ],
   "source": [
    "# 0 é segunda-feira\n",
    "# 6 é domingo\n",
    "\n",
    "# 1.1 Loja tem seu momento de tralho produtivo durante a semana, com leve crescimento indo de segunda a sexta\n",
    "# 1.2 Sabado gerando metade do faturamento de sexta, e domingo pouco mais de metade do faturamento de sabado\n",
    "faturamento_sem = []\n",
    "for i in transfers.groupby('Date'):\n",
    "    p1 = [i[0].dayofweek, i[1].Sales_Amount.sum()]\n",
    "    faturamento_sem.append(p1)\n",
    "fats = pd.DataFrame(faturamento_sem)\n",
    "fats2 = fats.groupby(0)\n",
    "fats3 = pd.DataFrame(columns=['dia_semana', 'fatura'])\n",
    "for i in fats2:\n",
    "    fats3.loc[len(fats3.index)] = [i[0], i[1][1].sum()]\n",
    "    \n",
    "fats3.plot(kind='bar', x='dia_semana', y='fatura')\n",
    "    \n",
    "xlocs2=[i+1 for i in range(0,7)]\n",
    "\n",
    "for i, v in enumerate(fats3.fatura.to_list()):\n",
    "    plt.text(xlocs2[i] - 1.27, v + 3000, '{0:,}K'.format(int(v/1000)))\n",
    "\n",
    "plt.ylabel(\"faturamento\")\n",
    "\n",
    "plt.show()"
   ]
  },
  {
   "cell_type": "markdown",
   "id": "ed871653",
   "metadata": {},
   "source": [
    "# 1.2 Concentraçao dos dados"
   ]
  },
  {
   "cell_type": "code",
   "execution_count": 18,
   "id": "5ac32a0e",
   "metadata": {},
   "outputs": [],
   "source": [
    "# 1.1 Entende-se concentraçao dos dados como, se foram feitas 100 compras naquele ano, quem foi o perfil que mais contribuiu \n",
    "# ... para essas compras e quanto. \n",
    "# 1.2 No objetivo de descobrir quanto é a importancia daquela loja para os clientes mais fieis e os produtos mais vendidos\n",
    "# 1.3 Clientes mais fieis = Clientes que mais tiveram transaçoes na loja"
   ]
  },
  {
   "cell_type": "code",
   "execution_count": 43,
   "id": "f58f36b9",
   "metadata": {},
   "outputs": [],
   "source": [
    "# 1.1 Preparando funçao que recebe porcentagens do clientes mais fieis e retorna as informaçoes agregadas desses clientes\n",
    "def dados_clientes_fieis(percentage):\n",
    "    p100 = [100, 1577640, 64657, 195569, 24.40014228931129]\n",
    "    pxU = int(users.shape[0]/100) * percentage\n",
    "    spent = int(users.sort_values('Total_Transactions', ascending=False)[:pxU].Total_Spent.sum())\n",
    "    transactions = users.sort_values('Total_Transactions', ascending=False)[:pxU].Total_Transactions.sum()\n",
    "    products = int(users.sort_values('Total_Transactions', ascending=False)[:pxU].Total_Products.sum())\n",
    "    average_ticket = spent / transactions\n",
    "    spent_percentage = spent / (p100[1]/100)\n",
    "    transactions_percentage = transactions / (p100[2]/100)\n",
    "    products_percentage = products / (p100[3]/100)\n",
    "    return [percentage, pxU, spent, transactions, products, average_ticket, spent_percentage, transactions_percentage, products_percentage]"
   ]
  },
  {
   "cell_type": "code",
   "execution_count": 44,
   "id": "f6fe3ea7",
   "metadata": {
    "scrolled": true
   },
   "outputs": [
    {
     "data": {
      "text/html": [
       "<div>\n",
       "<style scoped>\n",
       "    .dataframe tbody tr th:only-of-type {\n",
       "        vertical-align: middle;\n",
       "    }\n",
       "\n",
       "    .dataframe tbody tr th {\n",
       "        vertical-align: top;\n",
       "    }\n",
       "\n",
       "    .dataframe thead th {\n",
       "        text-align: right;\n",
       "    }\n",
       "</style>\n",
       "<table border=\"1\" class=\"dataframe\">\n",
       "  <thead>\n",
       "    <tr style=\"text-align: right;\">\n",
       "      <th></th>\n",
       "      <th>Percentage</th>\n",
       "      <th>Population</th>\n",
       "      <th>Spent</th>\n",
       "      <th>Transactions</th>\n",
       "      <th>Products</th>\n",
       "      <th>Average_Ticket</th>\n",
       "      <th>Spent_Percentage</th>\n",
       "      <th>Transactions_Percentage</th>\n",
       "      <th>Products_Percentage</th>\n",
       "    </tr>\n",
       "  </thead>\n",
       "  <tbody>\n",
       "    <tr>\n",
       "      <th>0</th>\n",
       "      <td>1.00</td>\n",
       "      <td>226.00</td>\n",
       "      <td>180059.00</td>\n",
       "      <td>6456.00</td>\n",
       "      <td>22721.00</td>\n",
       "      <td>27.89</td>\n",
       "      <td>11.41</td>\n",
       "      <td>9.98</td>\n",
       "      <td>11.62</td>\n",
       "    </tr>\n",
       "    <tr>\n",
       "      <th>1</th>\n",
       "      <td>5.00</td>\n",
       "      <td>1130.00</td>\n",
       "      <td>516641.00</td>\n",
       "      <td>18183.00</td>\n",
       "      <td>63520.00</td>\n",
       "      <td>28.41</td>\n",
       "      <td>32.75</td>\n",
       "      <td>28.12</td>\n",
       "      <td>32.48</td>\n",
       "    </tr>\n",
       "    <tr>\n",
       "      <th>2</th>\n",
       "      <td>10.00</td>\n",
       "      <td>2260.00</td>\n",
       "      <td>735385.00</td>\n",
       "      <td>26626.00</td>\n",
       "      <td>90875.00</td>\n",
       "      <td>27.62</td>\n",
       "      <td>46.61</td>\n",
       "      <td>41.18</td>\n",
       "      <td>46.47</td>\n",
       "    </tr>\n",
       "    <tr>\n",
       "      <th>3</th>\n",
       "      <td>25.00</td>\n",
       "      <td>5650.00</td>\n",
       "      <td>1080857.00</td>\n",
       "      <td>41027.00</td>\n",
       "      <td>132468.00</td>\n",
       "      <td>26.35</td>\n",
       "      <td>68.51</td>\n",
       "      <td>63.45</td>\n",
       "      <td>67.73</td>\n",
       "    </tr>\n",
       "    <tr>\n",
       "      <th>4</th>\n",
       "      <td>50.00</td>\n",
       "      <td>11300.00</td>\n",
       "      <td>1350842.00</td>\n",
       "      <td>53357.00</td>\n",
       "      <td>166377.00</td>\n",
       "      <td>25.32</td>\n",
       "      <td>85.62</td>\n",
       "      <td>82.52</td>\n",
       "      <td>85.07</td>\n",
       "    </tr>\n",
       "    <tr>\n",
       "      <th>5</th>\n",
       "      <td>100.00</td>\n",
       "      <td>22600.00</td>\n",
       "      <td>1577640.00</td>\n",
       "      <td>64657.00</td>\n",
       "      <td>195569.00</td>\n",
       "      <td>24.40</td>\n",
       "      <td>100.00</td>\n",
       "      <td>100.00</td>\n",
       "      <td>100.00</td>\n",
       "    </tr>\n",
       "  </tbody>\n",
       "</table>\n",
       "</div>"
      ],
      "text/plain": [
       "   Percentage  Population      Spent  Transactions  Products  Average_Ticket  \\\n",
       "0        1.00      226.00  180059.00       6456.00  22721.00           27.89   \n",
       "1        5.00     1130.00  516641.00      18183.00  63520.00           28.41   \n",
       "2       10.00     2260.00  735385.00      26626.00  90875.00           27.62   \n",
       "3       25.00     5650.00 1080857.00      41027.00 132468.00           26.35   \n",
       "4       50.00    11300.00 1350842.00      53357.00 166377.00           25.32   \n",
       "5      100.00    22600.00 1577640.00      64657.00 195569.00           24.40   \n",
       "\n",
       "   Spent_Percentage  Transactions_Percentage  Products_Percentage  \n",
       "0             11.41                     9.98                11.62  \n",
       "1             32.75                    28.12                32.48  \n",
       "2             46.61                    41.18                46.47  \n",
       "3             68.51                    63.45                67.73  \n",
       "4             85.62                    82.52                85.07  \n",
       "5            100.00                   100.00               100.00  "
      ]
     },
     "execution_count": 44,
     "metadata": {},
     "output_type": "execute_result"
    }
   ],
   "source": [
    "# 1.1 Agrupando informaçoes de porcentagens relevantes em um dataframe\n",
    "porcentagens = [1, 5, 10, 25, 50, 100]\n",
    "df_porcentagens = pd.DataFrame(columns=['Percentage', 'Population', 'Spent', 'Transactions', 'Products', 'Average_Ticket', 'Spent_Percentage', 'Transactions_Percentage', 'Products_Percentage'])\n",
    "for i in porcentagens:\n",
    "    dadosf = dados_clientes_fieis(i)\n",
    "    df_porcentagens.loc[len(df_porcentagens.index)] = dadosf\n",
    "df_porcentagens"
   ]
  },
  {
   "cell_type": "markdown",
   "id": "ba46fd4c",
   "metadata": {},
   "source": [
    "## 1.2.1 Clientes"
   ]
  },
  {
   "cell_type": "code",
   "execution_count": 22,
   "id": "d337ca4e",
   "metadata": {},
   "outputs": [],
   "source": [
    "# Funçao auxiliar parar printar formatado informaçoes da base acima\n",
    "def printa(series):\n",
    "    print('%.0f - %.0f%% dos clientes mais fieis compram %.2f%% dos produtos vendidos com ticket medio de %.2f$' % (series.Percentage, series.Percentage, series.Products_Percentage, series.Average_Ticket))\n",
    "    print('... Eles representam %.2f%% de todo valor gasto na loja, fazendo %.2f%% de todas transaçoes' % (series.Spent_Percentage, series.Transactions_Percentage))"
   ]
  },
  {
   "cell_type": "code",
   "execution_count": 23,
   "id": "c338d954",
   "metadata": {},
   "outputs": [
    {
     "name": "stdout",
     "output_type": "stream",
     "text": [
      "1 - 1% dos clientes mais fieis compram 11.62% dos produtos vendidos com ticket medio de 27.89$\n",
      "... Eles representam 11.41% de todo valor gasto na loja, fazendo 9.98% de todas transaçoes\n",
      "\n",
      "5 - 5% dos clientes mais fieis compram 32.48% dos produtos vendidos com ticket medio de 28.41$\n",
      "... Eles representam 32.75% de todo valor gasto na loja, fazendo 28.12% de todas transaçoes\n",
      "\n",
      "10 - 10% dos clientes mais fieis compram 46.47% dos produtos vendidos com ticket medio de 27.62$\n",
      "... Eles representam 46.61% de todo valor gasto na loja, fazendo 41.18% de todas transaçoes\n",
      "\n",
      "25 - 25% dos clientes mais fieis compram 67.73% dos produtos vendidos com ticket medio de 26.35$\n",
      "... Eles representam 68.51% de todo valor gasto na loja, fazendo 63.45% de todas transaçoes\n",
      "\n",
      "50 - 50% dos clientes mais fieis compram 85.07% dos produtos vendidos com ticket medio de 25.32$\n",
      "... Eles representam 85.62% de todo valor gasto na loja, fazendo 82.52% de todas transaçoes\n",
      "\n",
      "100 - 100% dos clientes mais fieis compram 100.00% dos produtos vendidos com ticket medio de 24.40$\n",
      "... Eles representam 100.00% de todo valor gasto na loja, fazendo 100.00% de todas transaçoes\n",
      "\n"
     ]
    }
   ],
   "source": [
    "# 1.1 O que se observa é que principalmente os 5% mais fieis a loja geram muito valor, gerando 1/3 do faturamento total da loja\n",
    "# 1.2 Quanto aos 50% que menos frequenta, esses geram apenas 15% da fatura da loja\n",
    "# 1.3 Observa-se tambem que quanto mais fiel, maior é o ticket medio de uma transaçao\n",
    "for i in df_porcentagens.iterrows():\n",
    "    printa(i[1])\n",
    "    print(\"\")"
   ]
  },
  {
   "cell_type": "code",
   "execution_count": 24,
   "id": "2affeab4",
   "metadata": {},
   "outputs": [
    {
     "name": "stdout",
     "output_type": "stream",
     "text": [
      "Ticket Medio top50 clientes MENOS fieis: 20.06\n",
      "Ticket Medio top50 clientes MAIS fieis: 25.32\n"
     ]
    }
   ],
   "source": [
    "# Ainda sobre ticket medio a diferença dos clientes mais fieis para os de ocasiao\n",
    "media1 = users.sort_values('Total_Transactions', ascending=False)[11300:].Total_Spent.sum() / users.sort_values('Total_Transactions', ascending=False)[11300:].Total_Transactions.sum()\n",
    "media_1 = users.sort_values('Total_Transactions', ascending=False)[:11300].Total_Spent.sum() / users.sort_values('Total_Transactions', ascending=False)[:11300].Total_Transactions.sum()\n",
    "print('Ticket Medio top50 clientes MENOS fieis: %.2f' % media1)\n",
    "print('Ticket Medio top50 clientes MAIS fieis: %.2f' % media_1)"
   ]
  },
  {
   "cell_type": "markdown",
   "id": "5772abe0",
   "metadata": {},
   "source": [
    "#### Usuarios que mais gastam mas nao compram mais de 5x na loja"
   ]
  },
  {
   "cell_type": "code",
   "execution_count": 129,
   "id": "4ced95e6",
   "metadata": {},
   "outputs": [
    {
     "name": "stdout",
     "output_type": "stream",
     "text": [
      "Usuarios com maior ticket medio que compram ate 5x:\n",
      "1%: 69,749$\n",
      "10%: 295,023$\n",
      "\n",
      "Usuarios que mais compram:\n",
      "1%: 180,059.0$\n",
      "10%: 516,641.0$\n"
     ]
    }
   ],
   "source": [
    "# 1.1 Quando comparamos os clientes de ocasiao que mais gastam com os clientes que mais frequentam ao longo de um ano, os \n",
    "# ... clientes frequentadores, geram muito mais riqueza a loja\n",
    "\n",
    "# 1p dos usuarios\n",
    "p001users = int(users.shape[0]/100)\n",
    "# total gasto pelos 1p com maior ticket medio ate 5 compras na loja\n",
    "p001ots = int(users[users.Total_Transactions < 5].sort_values(\"Average_Transaction_Amount\", ascending=False)[:p001users].Total_Spent.sum())\n",
    "# total gasto pelos 10p com maior ticket medio ate 5 compras na loja\n",
    "p010ots = int(users[users.Total_Transactions < 5].sort_values(\"Average_Transaction_Amount\", ascending=False)[:p001users*10].Total_Spent.sum())\n",
    "print(\"Usuarios com maior ticket medio que compram ate 5x:\\n1%: {0:,}$\".format(p001ots))\n",
    "print(\"10%: {0:,}$\".format(p010ots))\n",
    "\n",
    "print(\"\\nUsuarios que mais compram:\\n1%: {0:,}$\".format(df_porcentagens.iloc[0].Spent))\n",
    "print(\"10%: {0:,}$\".format(df_porcentagens.iloc[1].Spent))"
   ]
  },
  {
   "cell_type": "code",
   "execution_count": 145,
   "id": "1e2bb75c",
   "metadata": {},
   "outputs": [
    {
     "name": "stdout",
     "output_type": "stream",
     "text": [
      "19105 Clientes dos 22625 compram ate 5x na loja representando 676,336$\n",
      "Enquanto isso apenas 2689 dos 22625 clientes compram mais de  5x na loja representando 801,134$\n"
     ]
    }
   ],
   "source": [
    "# Nao de se enganar que pessoas que compram ate 5x na loja ainda geram parte significante da receita por que sao extrema maioria\n",
    "print('%.0f Clientes dos %.0f compram ate 5x na loja representando ' % (users[users.Total_Transactions < 5].shape[0], users.shape[0]), end=\"\")\n",
    "print(\"{0:,}$\".format(int(users[users.Total_Transactions < 5].Total_Spent.sum())))\n",
    "print('Enquanto isso apenas %.0f dos %.0f clientes compram mais de  5x na loja representando ' % (users[users.Total_Transactions > 5].shape[0], users.shape[0]), end=\"\")\n",
    "print(\"{0:,}$\".format(int(users[users.Total_Transactions > 5].Total_Spent.sum())))"
   ]
  },
  {
   "cell_type": "markdown",
   "id": "7d29e6aa",
   "metadata": {},
   "source": [
    "## 1.2.2 Produtos e categorias"
   ]
  },
  {
   "cell_type": "markdown",
   "id": "f93abea3",
   "metadata": {},
   "source": [
    "### Produtos que menos geram receita"
   ]
  },
  {
   "cell_type": "code",
   "execution_count": 46,
   "id": "70155d4b",
   "metadata": {
    "scrolled": false
   },
   "outputs": [
    {
     "name": "stdout",
     "output_type": "stream",
     "text": [
      "Os 50% produtos que menos geram receita, geram apenas 72,834.44$ para a loja\n",
      "Que representa 4.62% da receita da loja\n"
     ]
    }
   ],
   "source": [
    "p001spent = df_porcentagens.iloc[5].Spent / 100 # 1% da receita da loja\n",
    "p050 = int(prods.shape[0] / 2) #50% dos produtos da loja - 2621\n",
    "print('Os 50% produtos que menos geram receita, geram apenas {0:,}$ para a loja'.format(prods.sort_values('Total_Amount', ascending=False)[p050:].Total_Amount.sum()))\n",
    "print('Que representa %.2f%% da receita da loja' % (prods.sort_values('Total_Amount', ascending=False)[2621:].Total_Amount.sum() / p001spent))"
   ]
  },
  {
   "cell_type": "code",
   "execution_count": 31,
   "id": "15c957e7",
   "metadata": {},
   "outputs": [
    {
     "name": "stdout",
     "output_type": "stream",
     "text": [
      "LPF    90\n",
      "XG4    80\n",
      "TW8    79\n",
      "SFC    73\n",
      "JPI    72\n",
      "Z4O    59\n",
      "LSD    57\n",
      "R6E    54\n",
      "52T    54\n",
      "DJI    54\n",
      "Name: SKU_Category, dtype: int64\n"
     ]
    }
   ],
   "source": [
    "# esses produtos estao presente em praticamente todas as categorias 171/187, mas principalmente nas categorias abaxio\n",
    "print(prods.sort_values('Total_Amount', ascending=False)[2621:].SKU_Category.value_counts()[:10]) "
   ]
  },
  {
   "cell_type": "code",
   "execution_count": 32,
   "id": "f1227e82",
   "metadata": {},
   "outputs": [
    {
     "name": "stdout",
     "output_type": "stream",
     "text": [
      "171\n",
      "187\n"
     ]
    }
   ],
   "source": [
    "print(prods.sort_values('Total_Amount', ascending=False)[2621:].SKU_Category.value_counts().shape[0])\n",
    "print(prods.SKU_Category.value_counts().shape[0])"
   ]
  },
  {
   "cell_type": "code",
   "execution_count": 23,
   "id": "5b742839",
   "metadata": {},
   "outputs": [
    {
     "name": "stdout",
     "output_type": "stream",
     "text": [
      "18,684 unidades vendidas desses produtos\n",
      "195,624 produtos vendidos ao total\n"
     ]
    }
   ],
   "source": [
    "# E sao equivalentes a menos de 10% dos produtos vendidos. Alem de nao gerar receita nao sao comprados <-->\n",
    "# Outra maneira de interpretar seria que nao geram receita por que nao sao comprados <-->\n",
    "print('{0:,} unidades vendidas desses produtos'.format(int(prods.sort_values('Total_Amount', ascending=False)[2621:].Units_Sold.sum())))\n",
    "print('{0:,} produtos vendidos ao total'.format(int(prods.Units_Sold.sum())))"
   ]
  },
  {
   "cell_type": "code",
   "execution_count": 30,
   "id": "b499069d",
   "metadata": {},
   "outputs": [
    {
     "name": "stdout",
     "output_type": "stream",
     "text": [
      "Media de preço desses produtos(que foram vendidos) 3.90$\n"
     ]
    }
   ],
   "source": [
    "# esses produtos sao vendidos por uma media de menos de 4 reais, ou seja produtos baratos que mesmo assim nao sao tao cobiçados\n",
    "print('Media de preço desses produtos(que foram vendidos) %.2f$' % (prods.sort_values('Total_Amount', ascending=False)[2621:].Total_Amount.sum() / prods.sort_values('Total_Amount', ascending=False)[2621:].Units_Sold.sum()))"
   ]
  },
  {
   "cell_type": "code",
   "execution_count": 35,
   "id": "139e89f5",
   "metadata": {},
   "outputs": [
    {
     "data": {
      "text/html": [
       "<div>\n",
       "<style scoped>\n",
       "    .dataframe tbody tr th:only-of-type {\n",
       "        vertical-align: middle;\n",
       "    }\n",
       "\n",
       "    .dataframe tbody tr th {\n",
       "        vertical-align: top;\n",
       "    }\n",
       "\n",
       "    .dataframe thead th {\n",
       "        text-align: right;\n",
       "    }\n",
       "</style>\n",
       "<table border=\"1\" class=\"dataframe\">\n",
       "  <thead>\n",
       "    <tr style=\"text-align: right;\">\n",
       "      <th></th>\n",
       "      <th>SKU_N</th>\n",
       "      <th>SKU</th>\n",
       "      <th>SKU_Category</th>\n",
       "      <th>Units_Sold</th>\n",
       "      <th>Total_Amount</th>\n",
       "      <th>Unit_Amount_Average</th>\n",
       "    </tr>\n",
       "  </thead>\n",
       "  <tbody>\n",
       "    <tr>\n",
       "      <th>1935</th>\n",
       "      <td>1935</td>\n",
       "      <td>D0APX</td>\n",
       "      <td>ZJG</td>\n",
       "      <td>0.10</td>\n",
       "      <td>69.38</td>\n",
       "      <td>693.80</td>\n",
       "    </tr>\n",
       "    <tr>\n",
       "      <th>4417</th>\n",
       "      <td>4417</td>\n",
       "      <td>U5KIY</td>\n",
       "      <td>J4R</td>\n",
       "      <td>0.60</td>\n",
       "      <td>60.96</td>\n",
       "      <td>101.60</td>\n",
       "    </tr>\n",
       "    <tr>\n",
       "      <th>4359</th>\n",
       "      <td>4359</td>\n",
       "      <td>TOOXO</td>\n",
       "      <td>SJS</td>\n",
       "      <td>1.00</td>\n",
       "      <td>76.57</td>\n",
       "      <td>76.57</td>\n",
       "    </tr>\n",
       "    <tr>\n",
       "      <th>1683</th>\n",
       "      <td>1683</td>\n",
       "      <td>BEFRB</td>\n",
       "      <td>PHK</td>\n",
       "      <td>1.00</td>\n",
       "      <td>75.51</td>\n",
       "      <td>75.51</td>\n",
       "    </tr>\n",
       "    <tr>\n",
       "      <th>2119</th>\n",
       "      <td>2119</td>\n",
       "      <td>EA9XC</td>\n",
       "      <td>10Y</td>\n",
       "      <td>1.00</td>\n",
       "      <td>74.88</td>\n",
       "      <td>74.88</td>\n",
       "    </tr>\n",
       "  </tbody>\n",
       "</table>\n",
       "</div>"
      ],
      "text/plain": [
       "      SKU_N    SKU SKU_Category  Units_Sold  Total_Amount  Unit_Amount_Average\n",
       "1935   1935  D0APX          ZJG        0.10         69.38               693.80\n",
       "4417   4417  U5KIY          J4R        0.60         60.96               101.60\n",
       "4359   4359  TOOXO          SJS        1.00         76.57                76.57\n",
       "1683   1683  BEFRB          PHK        1.00         75.51                75.51\n",
       "2119   2119  EA9XC          10Y        1.00         74.88                74.88"
      ]
     },
     "execution_count": 35,
     "metadata": {},
     "output_type": "execute_result"
    }
   ],
   "source": [
    "# Existem casos de produtos mais caros tambem, que acabam apenas por nao serem vendidos o suficiente para gerar receita\n",
    "prods.sort_values('Total_Amount', ascending=False)[2621:].sort_values('Unit_Amount_Average', ascending=False)[:5]"
   ]
  },
  {
   "cell_type": "code",
   "execution_count": 36,
   "id": "7a49cef8",
   "metadata": {},
   "outputs": [
    {
     "data": {
      "text/html": [
       "<div>\n",
       "<style scoped>\n",
       "    .dataframe tbody tr th:only-of-type {\n",
       "        vertical-align: middle;\n",
       "    }\n",
       "\n",
       "    .dataframe tbody tr th {\n",
       "        vertical-align: top;\n",
       "    }\n",
       "\n",
       "    .dataframe thead th {\n",
       "        text-align: right;\n",
       "    }\n",
       "</style>\n",
       "<table border=\"1\" class=\"dataframe\">\n",
       "  <thead>\n",
       "    <tr style=\"text-align: right;\">\n",
       "      <th></th>\n",
       "      <th>SKU_N</th>\n",
       "      <th>SKU</th>\n",
       "      <th>SKU_Category</th>\n",
       "      <th>Units_Sold</th>\n",
       "      <th>Total_Amount</th>\n",
       "      <th>Unit_Amount_Average</th>\n",
       "    </tr>\n",
       "  </thead>\n",
       "  <tbody>\n",
       "    <tr>\n",
       "      <th>1935</th>\n",
       "      <td>1935</td>\n",
       "      <td>D0APX</td>\n",
       "      <td>ZJG</td>\n",
       "      <td>0.10</td>\n",
       "      <td>69.38</td>\n",
       "      <td>693.80</td>\n",
       "    </tr>\n",
       "    <tr>\n",
       "      <th>5136</th>\n",
       "      <td>5136</td>\n",
       "      <td>Z8IA4</td>\n",
       "      <td>ZJG</td>\n",
       "      <td>0.20</td>\n",
       "      <td>117.00</td>\n",
       "      <td>585.00</td>\n",
       "    </tr>\n",
       "    <tr>\n",
       "      <th>1427</th>\n",
       "      <td>1427</td>\n",
       "      <td>9KUFC</td>\n",
       "      <td>XG4</td>\n",
       "      <td>4.00</td>\n",
       "      <td>1218.12</td>\n",
       "      <td>304.53</td>\n",
       "    </tr>\n",
       "    <tr>\n",
       "      <th>2096</th>\n",
       "      <td>2096</td>\n",
       "      <td>E3T4K</td>\n",
       "      <td>06Z</td>\n",
       "      <td>5.00</td>\n",
       "      <td>1521.93</td>\n",
       "      <td>304.39</td>\n",
       "    </tr>\n",
       "    <tr>\n",
       "      <th>556</th>\n",
       "      <td>556</td>\n",
       "      <td>3NCL3</td>\n",
       "      <td>6BZ</td>\n",
       "      <td>13.00</td>\n",
       "      <td>3793.51</td>\n",
       "      <td>291.81</td>\n",
       "    </tr>\n",
       "    <tr>\n",
       "      <th>2718</th>\n",
       "      <td>2718</td>\n",
       "      <td>IH9J2</td>\n",
       "      <td>6BZ</td>\n",
       "      <td>5.66</td>\n",
       "      <td>1651.63</td>\n",
       "      <td>291.81</td>\n",
       "    </tr>\n",
       "    <tr>\n",
       "      <th>2696</th>\n",
       "      <td>2696</td>\n",
       "      <td>ID731</td>\n",
       "      <td>PHK</td>\n",
       "      <td>1.00</td>\n",
       "      <td>269.70</td>\n",
       "      <td>269.70</td>\n",
       "    </tr>\n",
       "    <tr>\n",
       "      <th>639</th>\n",
       "      <td>639</td>\n",
       "      <td>4AJLB</td>\n",
       "      <td>06Z</td>\n",
       "      <td>8.00</td>\n",
       "      <td>2091.85</td>\n",
       "      <td>261.48</td>\n",
       "    </tr>\n",
       "    <tr>\n",
       "      <th>1750</th>\n",
       "      <td>1750</td>\n",
       "      <td>BR7EP</td>\n",
       "      <td>PBV</td>\n",
       "      <td>2.00</td>\n",
       "      <td>505.59</td>\n",
       "      <td>252.79</td>\n",
       "    </tr>\n",
       "    <tr>\n",
       "      <th>631</th>\n",
       "      <td>631</td>\n",
       "      <td>4891R</td>\n",
       "      <td>1EO</td>\n",
       "      <td>1.00</td>\n",
       "      <td>249.56</td>\n",
       "      <td>249.56</td>\n",
       "    </tr>\n",
       "  </tbody>\n",
       "</table>\n",
       "</div>"
      ],
      "text/plain": [
       "      SKU_N    SKU SKU_Category  Units_Sold  Total_Amount  Unit_Amount_Average\n",
       "1935   1935  D0APX          ZJG        0.10         69.38               693.80\n",
       "5136   5136  Z8IA4          ZJG        0.20        117.00               585.00\n",
       "1427   1427  9KUFC          XG4        4.00       1218.12               304.53\n",
       "2096   2096  E3T4K          06Z        5.00       1521.93               304.39\n",
       "556     556  3NCL3          6BZ       13.00       3793.51               291.81\n",
       "2718   2718  IH9J2          6BZ        5.66       1651.63               291.81\n",
       "2696   2696  ID731          PHK        1.00        269.70               269.70\n",
       "639     639  4AJLB          06Z        8.00       2091.85               261.48\n",
       "1750   1750  BR7EP          PBV        2.00        505.59               252.79\n",
       "631     631  4891R          1EO        1.00        249.56               249.56"
      ]
     },
     "execution_count": 36,
     "metadata": {},
     "output_type": "execute_result"
    }
   ],
   "source": [
    "# Porem entendendo o problema de negocio, a loja nao oferece muitos produtos caros, e os oferecidos sao vendidos pouco em geral\n",
    "prods.sort_values('Unit_Amount_Average', ascending=False)[:10]"
   ]
  },
  {
   "cell_type": "markdown",
   "id": "b4e920c9",
   "metadata": {},
   "source": [
    "#### Produtos vendidos cortados"
   ]
  },
  {
   "cell_type": "code",
   "execution_count": 37,
   "id": "74d3c5d2",
   "metadata": {},
   "outputs": [
    {
     "data": {
      "text/html": [
       "<div>\n",
       "<style scoped>\n",
       "    .dataframe tbody tr th:only-of-type {\n",
       "        vertical-align: middle;\n",
       "    }\n",
       "\n",
       "    .dataframe tbody tr th {\n",
       "        vertical-align: top;\n",
       "    }\n",
       "\n",
       "    .dataframe thead th {\n",
       "        text-align: right;\n",
       "    }\n",
       "</style>\n",
       "<table border=\"1\" class=\"dataframe\">\n",
       "  <thead>\n",
       "    <tr style=\"text-align: right;\">\n",
       "      <th></th>\n",
       "      <th>SKU_N</th>\n",
       "      <th>SKU</th>\n",
       "      <th>SKU_Category</th>\n",
       "      <th>Units_Sold</th>\n",
       "      <th>Total_Amount</th>\n",
       "      <th>Unit_Amount_Average</th>\n",
       "    </tr>\n",
       "  </thead>\n",
       "  <tbody>\n",
       "    <tr>\n",
       "      <th>1935</th>\n",
       "      <td>1935</td>\n",
       "      <td>D0APX</td>\n",
       "      <td>ZJG</td>\n",
       "      <td>0.10</td>\n",
       "      <td>69.38</td>\n",
       "      <td>693.80</td>\n",
       "    </tr>\n",
       "    <tr>\n",
       "      <th>5136</th>\n",
       "      <td>5136</td>\n",
       "      <td>Z8IA4</td>\n",
       "      <td>ZJG</td>\n",
       "      <td>0.20</td>\n",
       "      <td>117.00</td>\n",
       "      <td>585.00</td>\n",
       "    </tr>\n",
       "    <tr>\n",
       "      <th>3183</th>\n",
       "      <td>3183</td>\n",
       "      <td>LJSFV</td>\n",
       "      <td>H1H</td>\n",
       "      <td>0.30</td>\n",
       "      <td>1.02</td>\n",
       "      <td>3.40</td>\n",
       "    </tr>\n",
       "    <tr>\n",
       "      <th>4916</th>\n",
       "      <td>4916</td>\n",
       "      <td>XMHTE</td>\n",
       "      <td>PBV</td>\n",
       "      <td>0.33</td>\n",
       "      <td>12.59</td>\n",
       "      <td>38.15</td>\n",
       "    </tr>\n",
       "    <tr>\n",
       "      <th>4955</th>\n",
       "      <td>4955</td>\n",
       "      <td>XY1DR</td>\n",
       "      <td>PBV</td>\n",
       "      <td>0.33</td>\n",
       "      <td>9.98</td>\n",
       "      <td>30.24</td>\n",
       "    </tr>\n",
       "    <tr>\n",
       "      <th>69</th>\n",
       "      <td>69</td>\n",
       "      <td>0FWL7</td>\n",
       "      <td>SIM</td>\n",
       "      <td>0.50</td>\n",
       "      <td>14.10</td>\n",
       "      <td>28.20</td>\n",
       "    </tr>\n",
       "    <tr>\n",
       "      <th>4417</th>\n",
       "      <td>4417</td>\n",
       "      <td>U5KIY</td>\n",
       "      <td>J4R</td>\n",
       "      <td>0.60</td>\n",
       "      <td>60.96</td>\n",
       "      <td>101.60</td>\n",
       "    </tr>\n",
       "    <tr>\n",
       "      <th>967</th>\n",
       "      <td>967</td>\n",
       "      <td>6GM39</td>\n",
       "      <td>PBV</td>\n",
       "      <td>0.67</td>\n",
       "      <td>29.70</td>\n",
       "      <td>44.33</td>\n",
       "    </tr>\n",
       "    <tr>\n",
       "      <th>1398</th>\n",
       "      <td>1398</td>\n",
       "      <td>9DJOL</td>\n",
       "      <td>ARZ</td>\n",
       "      <td>0.70</td>\n",
       "      <td>22.59</td>\n",
       "      <td>32.27</td>\n",
       "    </tr>\n",
       "    <tr>\n",
       "      <th>5160</th>\n",
       "      <td>5160</td>\n",
       "      <td>ZEN7K</td>\n",
       "      <td>PBV</td>\n",
       "      <td>0.99</td>\n",
       "      <td>20.05</td>\n",
       "      <td>20.25</td>\n",
       "    </tr>\n",
       "    <tr>\n",
       "      <th>4871</th>\n",
       "      <td>4871</td>\n",
       "      <td>XB8QU</td>\n",
       "      <td>PBV</td>\n",
       "      <td>0.99</td>\n",
       "      <td>40.50</td>\n",
       "      <td>40.91</td>\n",
       "    </tr>\n",
       "    <tr>\n",
       "      <th>3230</th>\n",
       "      <td>3230</td>\n",
       "      <td>LW8S3</td>\n",
       "      <td>I4Y</td>\n",
       "      <td>1.00</td>\n",
       "      <td>7.25</td>\n",
       "      <td>7.25</td>\n",
       "    </tr>\n",
       "    <tr>\n",
       "      <th>3287</th>\n",
       "      <td>3287</td>\n",
       "      <td>MDGT1</td>\n",
       "      <td>C3R</td>\n",
       "      <td>1.00</td>\n",
       "      <td>19.07</td>\n",
       "      <td>19.07</td>\n",
       "    </tr>\n",
       "    <tr>\n",
       "      <th>3281</th>\n",
       "      <td>3281</td>\n",
       "      <td>MAL2H</td>\n",
       "      <td>HXR</td>\n",
       "      <td>1.00</td>\n",
       "      <td>16.44</td>\n",
       "      <td>16.44</td>\n",
       "    </tr>\n",
       "    <tr>\n",
       "      <th>3191</th>\n",
       "      <td>3191</td>\n",
       "      <td>LLSBK</td>\n",
       "      <td>NVL</td>\n",
       "      <td>1.00</td>\n",
       "      <td>25.84</td>\n",
       "      <td>25.84</td>\n",
       "    </tr>\n",
       "  </tbody>\n",
       "</table>\n",
       "</div>"
      ],
      "text/plain": [
       "      SKU_N    SKU SKU_Category  Units_Sold  Total_Amount  Unit_Amount_Average\n",
       "1935   1935  D0APX          ZJG        0.10         69.38               693.80\n",
       "5136   5136  Z8IA4          ZJG        0.20        117.00               585.00\n",
       "3183   3183  LJSFV          H1H        0.30          1.02                 3.40\n",
       "4916   4916  XMHTE          PBV        0.33         12.59                38.15\n",
       "4955   4955  XY1DR          PBV        0.33          9.98                30.24\n",
       "69       69  0FWL7          SIM        0.50         14.10                28.20\n",
       "4417   4417  U5KIY          J4R        0.60         60.96               101.60\n",
       "967     967  6GM39          PBV        0.67         29.70                44.33\n",
       "1398   1398  9DJOL          ARZ        0.70         22.59                32.27\n",
       "5160   5160  ZEN7K          PBV        0.99         20.05                20.25\n",
       "4871   4871  XB8QU          PBV        0.99         40.50                40.91\n",
       "3230   3230  LW8S3          I4Y        1.00          7.25                 7.25\n",
       "3287   3287  MDGT1          C3R        1.00         19.07                19.07\n",
       "3281   3281  MAL2H          HXR        1.00         16.44                16.44\n",
       "3191   3191  LLSBK          NVL        1.00         25.84                25.84"
      ]
     },
     "execution_count": 37,
     "metadata": {},
     "output_type": "execute_result"
    }
   ],
   "source": [
    "# Interessante e dificil de entender tambem sao esses produtos que sao vendidos fracionados\n",
    "prods.sort_values(\"Units_Sold\", ascending=True)[:15]"
   ]
  },
  {
   "cell_type": "markdown",
   "id": "57e5153e",
   "metadata": {},
   "source": [
    "### Produtos pouco vendidos"
   ]
  },
  {
   "cell_type": "code",
   "execution_count": 38,
   "id": "196fb655",
   "metadata": {},
   "outputs": [
    {
     "data": {
      "text/html": [
       "<div>\n",
       "<style scoped>\n",
       "    .dataframe tbody tr th:only-of-type {\n",
       "        vertical-align: middle;\n",
       "    }\n",
       "\n",
       "    .dataframe tbody tr th {\n",
       "        vertical-align: top;\n",
       "    }\n",
       "\n",
       "    .dataframe thead th {\n",
       "        text-align: right;\n",
       "    }\n",
       "</style>\n",
       "<table border=\"1\" class=\"dataframe\">\n",
       "  <thead>\n",
       "    <tr style=\"text-align: right;\">\n",
       "      <th></th>\n",
       "      <th>SKU_N</th>\n",
       "      <th>SKU</th>\n",
       "      <th>SKU_Category</th>\n",
       "      <th>Units_Sold</th>\n",
       "      <th>Total_Amount</th>\n",
       "      <th>Unit_Amount_Average</th>\n",
       "    </tr>\n",
       "  </thead>\n",
       "  <tbody>\n",
       "    <tr>\n",
       "      <th>0</th>\n",
       "      <td>0</td>\n",
       "      <td>00GVC</td>\n",
       "      <td>1TS</td>\n",
       "      <td>2.00</td>\n",
       "      <td>35.36</td>\n",
       "      <td>17.68</td>\n",
       "    </tr>\n",
       "    <tr>\n",
       "      <th>4</th>\n",
       "      <td>4</td>\n",
       "      <td>01IQT</td>\n",
       "      <td>Z4O</td>\n",
       "      <td>7.00</td>\n",
       "      <td>9.22</td>\n",
       "      <td>1.32</td>\n",
       "    </tr>\n",
       "    <tr>\n",
       "      <th>7</th>\n",
       "      <td>7</td>\n",
       "      <td>01XVY</td>\n",
       "      <td>TW8</td>\n",
       "      <td>1.00</td>\n",
       "      <td>1.46</td>\n",
       "      <td>1.46</td>\n",
       "    </tr>\n",
       "    <tr>\n",
       "      <th>8</th>\n",
       "      <td>8</td>\n",
       "      <td>029WA</td>\n",
       "      <td>J4R</td>\n",
       "      <td>2.00</td>\n",
       "      <td>10.06</td>\n",
       "      <td>5.03</td>\n",
       "    </tr>\n",
       "    <tr>\n",
       "      <th>10</th>\n",
       "      <td>10</td>\n",
       "      <td>03CPI</td>\n",
       "      <td>FEW</td>\n",
       "      <td>5.00</td>\n",
       "      <td>81.36</td>\n",
       "      <td>16.27</td>\n",
       "    </tr>\n",
       "    <tr>\n",
       "      <th>...</th>\n",
       "      <td>...</td>\n",
       "      <td>...</td>\n",
       "      <td>...</td>\n",
       "      <td>...</td>\n",
       "      <td>...</td>\n",
       "      <td>...</td>\n",
       "    </tr>\n",
       "    <tr>\n",
       "      <th>5235</th>\n",
       "      <td>5235</td>\n",
       "      <td>ZY9N9</td>\n",
       "      <td>1EO</td>\n",
       "      <td>5.00</td>\n",
       "      <td>251.09</td>\n",
       "      <td>50.22</td>\n",
       "    </tr>\n",
       "    <tr>\n",
       "      <th>5237</th>\n",
       "      <td>5237</td>\n",
       "      <td>ZZ2AO</td>\n",
       "      <td>52T</td>\n",
       "      <td>1.00</td>\n",
       "      <td>24.38</td>\n",
       "      <td>24.38</td>\n",
       "    </tr>\n",
       "    <tr>\n",
       "      <th>5238</th>\n",
       "      <td>5238</td>\n",
       "      <td>ZZDW7</td>\n",
       "      <td>GVG</td>\n",
       "      <td>2.00</td>\n",
       "      <td>48.37</td>\n",
       "      <td>24.18</td>\n",
       "    </tr>\n",
       "    <tr>\n",
       "      <th>5240</th>\n",
       "      <td>5240</td>\n",
       "      <td>ZZNC5</td>\n",
       "      <td>LPF</td>\n",
       "      <td>1.00</td>\n",
       "      <td>10.79</td>\n",
       "      <td>10.79</td>\n",
       "    </tr>\n",
       "    <tr>\n",
       "      <th>5241</th>\n",
       "      <td>5241</td>\n",
       "      <td>ZZX6K</td>\n",
       "      <td>3MC</td>\n",
       "      <td>1.00</td>\n",
       "      <td>111.81</td>\n",
       "      <td>111.81</td>\n",
       "    </tr>\n",
       "  </tbody>\n",
       "</table>\n",
       "<p>2758 rows × 6 columns</p>\n",
       "</div>"
      ],
      "text/plain": [
       "      SKU_N    SKU SKU_Category  Units_Sold  Total_Amount  Unit_Amount_Average\n",
       "0         0  00GVC          1TS        2.00         35.36                17.68\n",
       "4         4  01IQT          Z4O        7.00          9.22                 1.32\n",
       "7         7  01XVY          TW8        1.00          1.46                 1.46\n",
       "8         8  029WA          J4R        2.00         10.06                 5.03\n",
       "10       10  03CPI          FEW        5.00         81.36                16.27\n",
       "...     ...    ...          ...         ...           ...                  ...\n",
       "5235   5235  ZY9N9          1EO        5.00        251.09                50.22\n",
       "5237   5237  ZZ2AO          52T        1.00         24.38                24.38\n",
       "5238   5238  ZZDW7          GVG        2.00         48.37                24.18\n",
       "5240   5240  ZZNC5          LPF        1.00         10.79                10.79\n",
       "5241   5241  ZZX6K          3MC        1.00        111.81               111.81\n",
       "\n",
       "[2758 rows x 6 columns]"
      ]
     },
     "execution_count": 38,
     "metadata": {},
     "output_type": "execute_result"
    }
   ],
   "source": [
    "# Podemos ver que praticamente 50% dos produtos da loja sao vendidos menos de 10 unidades anuais\n",
    "prods[prods['Units_Sold'] < 10]"
   ]
  },
  {
   "cell_type": "code",
   "execution_count": 35,
   "id": "faf55100",
   "metadata": {},
   "outputs": [
    {
     "name": "stdout",
     "output_type": "stream",
     "text": [
      "total de produtos 5242\n",
      "produtos com menos de 10 vendas anuais 2758\n"
     ]
    }
   ],
   "source": [
    "print('total de produtos', prods.shape[0])\n",
    "print('produtos com menos de 10 vendas anuais', prods[prods['Units_Sold'] < 10].shape[0])"
   ]
  },
  {
   "cell_type": "code",
   "execution_count": 40,
   "id": "12b83949",
   "metadata": {},
   "outputs": [
    {
     "name": "stdout",
     "output_type": "stream",
     "text": [
      "159,407.88$ de receita\n"
     ]
    }
   ],
   "source": [
    "# Os mesmos acabam gerando praticamente 10% de receita, e devem existir muitos overlaps entre eles e os que menos arrecadam\n",
    "print('{0:,}$ de receita'.format(prods[prods['Units_Sold'] < 10].Total_Amount.sum()))"
   ]
  },
  {
   "cell_type": "code",
   "execution_count": 40,
   "id": "88e2838a",
   "metadata": {},
   "outputs": [
    {
     "data": {
      "text/html": [
       "<div>\n",
       "<style scoped>\n",
       "    .dataframe tbody tr th:only-of-type {\n",
       "        vertical-align: middle;\n",
       "    }\n",
       "\n",
       "    .dataframe tbody tr th {\n",
       "        vertical-align: top;\n",
       "    }\n",
       "\n",
       "    .dataframe thead th {\n",
       "        text-align: right;\n",
       "    }\n",
       "</style>\n",
       "<table border=\"1\" class=\"dataframe\">\n",
       "  <thead>\n",
       "    <tr style=\"text-align: right;\">\n",
       "      <th></th>\n",
       "      <th>SKU_N</th>\n",
       "      <th>SKU</th>\n",
       "      <th>SKU_Category</th>\n",
       "      <th>Units_Sold</th>\n",
       "      <th>Total_Amount</th>\n",
       "      <th>Unit_Amount_Average</th>\n",
       "    </tr>\n",
       "  </thead>\n",
       "  <tbody>\n",
       "    <tr>\n",
       "      <th>639</th>\n",
       "      <td>639</td>\n",
       "      <td>4AJLB</td>\n",
       "      <td>06Z</td>\n",
       "      <td>8.00</td>\n",
       "      <td>2091.85</td>\n",
       "      <td>261.48</td>\n",
       "    </tr>\n",
       "    <tr>\n",
       "      <th>2718</th>\n",
       "      <td>2718</td>\n",
       "      <td>IH9J2</td>\n",
       "      <td>6BZ</td>\n",
       "      <td>5.66</td>\n",
       "      <td>1651.63</td>\n",
       "      <td>291.81</td>\n",
       "    </tr>\n",
       "    <tr>\n",
       "      <th>2096</th>\n",
       "      <td>2096</td>\n",
       "      <td>E3T4K</td>\n",
       "      <td>06Z</td>\n",
       "      <td>5.00</td>\n",
       "      <td>1521.93</td>\n",
       "      <td>304.39</td>\n",
       "    </tr>\n",
       "    <tr>\n",
       "      <th>4183</th>\n",
       "      <td>4183</td>\n",
       "      <td>SGGBX</td>\n",
       "      <td>V9H</td>\n",
       "      <td>9.00</td>\n",
       "      <td>1420.29</td>\n",
       "      <td>157.81</td>\n",
       "    </tr>\n",
       "    <tr>\n",
       "      <th>1427</th>\n",
       "      <td>1427</td>\n",
       "      <td>9KUFC</td>\n",
       "      <td>XG4</td>\n",
       "      <td>4.00</td>\n",
       "      <td>1218.12</td>\n",
       "      <td>304.53</td>\n",
       "    </tr>\n",
       "    <tr>\n",
       "      <th>2588</th>\n",
       "      <td>2588</td>\n",
       "      <td>HOJTH</td>\n",
       "      <td>A38</td>\n",
       "      <td>5.00</td>\n",
       "      <td>1090.85</td>\n",
       "      <td>218.17</td>\n",
       "    </tr>\n",
       "    <tr>\n",
       "      <th>1465</th>\n",
       "      <td>1465</td>\n",
       "      <td>9V7U9</td>\n",
       "      <td>PBV</td>\n",
       "      <td>8.00</td>\n",
       "      <td>1036.32</td>\n",
       "      <td>129.54</td>\n",
       "    </tr>\n",
       "    <tr>\n",
       "      <th>3671</th>\n",
       "      <td>3671</td>\n",
       "      <td>OXKQ8</td>\n",
       "      <td>SJS</td>\n",
       "      <td>5.00</td>\n",
       "      <td>906.97</td>\n",
       "      <td>181.39</td>\n",
       "    </tr>\n",
       "    <tr>\n",
       "      <th>5025</th>\n",
       "      <td>5025</td>\n",
       "      <td>YHAK7</td>\n",
       "      <td>A38</td>\n",
       "      <td>6.00</td>\n",
       "      <td>816.24</td>\n",
       "      <td>136.04</td>\n",
       "    </tr>\n",
       "    <tr>\n",
       "      <th>2982</th>\n",
       "      <td>2982</td>\n",
       "      <td>KCKVE</td>\n",
       "      <td>SJS</td>\n",
       "      <td>4.00</td>\n",
       "      <td>815.36</td>\n",
       "      <td>203.84</td>\n",
       "    </tr>\n",
       "  </tbody>\n",
       "</table>\n",
       "</div>"
      ],
      "text/plain": [
       "      SKU_N    SKU SKU_Category  Units_Sold  Total_Amount  Unit_Amount_Average\n",
       "639     639  4AJLB          06Z        8.00       2091.85               261.48\n",
       "2718   2718  IH9J2          6BZ        5.66       1651.63               291.81\n",
       "2096   2096  E3T4K          06Z        5.00       1521.93               304.39\n",
       "4183   4183  SGGBX          V9H        9.00       1420.29               157.81\n",
       "1427   1427  9KUFC          XG4        4.00       1218.12               304.53\n",
       "2588   2588  HOJTH          A38        5.00       1090.85               218.17\n",
       "1465   1465  9V7U9          PBV        8.00       1036.32               129.54\n",
       "3671   3671  OXKQ8          SJS        5.00        906.97               181.39\n",
       "5025   5025  YHAK7          A38        6.00        816.24               136.04\n",
       "2982   2982  KCKVE          SJS        4.00        815.36               203.84"
      ]
     },
     "execution_count": 40,
     "metadata": {},
     "output_type": "execute_result"
    }
   ],
   "source": [
    "# Porem existem algumas exceçoes que geram boa quantidade de dinheiro anual a loja\n",
    "prods[prods['Units_Sold'] < 10].sort_values('Total_Amount', ascending=False)[:10]"
   ]
  },
  {
   "cell_type": "markdown",
   "id": "bd96b31c",
   "metadata": {},
   "source": [
    "### Produtos mais vendidos "
   ]
  },
  {
   "cell_type": "code",
   "execution_count": 41,
   "id": "1fd2cc5e",
   "metadata": {},
   "outputs": [
    {
     "data": {
      "text/html": [
       "<div>\n",
       "<style scoped>\n",
       "    .dataframe tbody tr th:only-of-type {\n",
       "        vertical-align: middle;\n",
       "    }\n",
       "\n",
       "    .dataframe tbody tr th {\n",
       "        vertical-align: top;\n",
       "    }\n",
       "\n",
       "    .dataframe thead th {\n",
       "        text-align: right;\n",
       "    }\n",
       "</style>\n",
       "<table border=\"1\" class=\"dataframe\">\n",
       "  <thead>\n",
       "    <tr style=\"text-align: right;\">\n",
       "      <th></th>\n",
       "      <th>SKU_N</th>\n",
       "      <th>SKU</th>\n",
       "      <th>SKU_Category</th>\n",
       "      <th>Units_Sold</th>\n",
       "      <th>Total_Amount</th>\n",
       "      <th>Unit_Amount_Average</th>\n",
       "    </tr>\n",
       "  </thead>\n",
       "  <tbody>\n",
       "    <tr>\n",
       "      <th>1859</th>\n",
       "      <td>1859</td>\n",
       "      <td>CKDW0</td>\n",
       "      <td>H8O</td>\n",
       "      <td>5769.20</td>\n",
       "      <td>235.88</td>\n",
       "      <td>0.04</td>\n",
       "    </tr>\n",
       "    <tr>\n",
       "      <th>4302</th>\n",
       "      <td>4302</td>\n",
       "      <td>TD3DD</td>\n",
       "      <td>JI5</td>\n",
       "      <td>3786.00</td>\n",
       "      <td>1039.12</td>\n",
       "      <td>0.27</td>\n",
       "    </tr>\n",
       "    <tr>\n",
       "      <th>4504</th>\n",
       "      <td>4504</td>\n",
       "      <td>UNJKW</td>\n",
       "      <td>N8U</td>\n",
       "      <td>2179.00</td>\n",
       "      <td>4526.28</td>\n",
       "      <td>2.08</td>\n",
       "    </tr>\n",
       "    <tr>\n",
       "      <th>2134</th>\n",
       "      <td>2134</td>\n",
       "      <td>EEI1Q</td>\n",
       "      <td>JI5</td>\n",
       "      <td>1568.00</td>\n",
       "      <td>515.37</td>\n",
       "      <td>0.33</td>\n",
       "    </tr>\n",
       "    <tr>\n",
       "      <th>3370</th>\n",
       "      <td>3370</td>\n",
       "      <td>MXKDP</td>\n",
       "      <td>JI5</td>\n",
       "      <td>1252.00</td>\n",
       "      <td>313.08</td>\n",
       "      <td>0.25</td>\n",
       "    </tr>\n",
       "    <tr>\n",
       "      <th>2541</th>\n",
       "      <td>2541</td>\n",
       "      <td>H8P2L</td>\n",
       "      <td>JI5</td>\n",
       "      <td>1118.00</td>\n",
       "      <td>306.23</td>\n",
       "      <td>0.27</td>\n",
       "    </tr>\n",
       "    <tr>\n",
       "      <th>410</th>\n",
       "      <td>410</td>\n",
       "      <td>2SVKS</td>\n",
       "      <td>U5F</td>\n",
       "      <td>1113.00</td>\n",
       "      <td>2460.49</td>\n",
       "      <td>2.21</td>\n",
       "    </tr>\n",
       "    <tr>\n",
       "      <th>1929</th>\n",
       "      <td>1929</td>\n",
       "      <td>CYRX4</td>\n",
       "      <td>JI5</td>\n",
       "      <td>1071.00</td>\n",
       "      <td>295.06</td>\n",
       "      <td>0.28</td>\n",
       "    </tr>\n",
       "    <tr>\n",
       "      <th>4692</th>\n",
       "      <td>4692</td>\n",
       "      <td>W1ZMG</td>\n",
       "      <td>A38</td>\n",
       "      <td>1033.00</td>\n",
       "      <td>3986.37</td>\n",
       "      <td>3.86</td>\n",
       "    </tr>\n",
       "    <tr>\n",
       "      <th>1812</th>\n",
       "      <td>1812</td>\n",
       "      <td>C6TXL</td>\n",
       "      <td>NTA</td>\n",
       "      <td>1027.00</td>\n",
       "      <td>4621.50</td>\n",
       "      <td>4.50</td>\n",
       "    </tr>\n",
       "  </tbody>\n",
       "</table>\n",
       "</div>"
      ],
      "text/plain": [
       "      SKU_N    SKU SKU_Category  Units_Sold  Total_Amount  Unit_Amount_Average\n",
       "1859   1859  CKDW0          H8O     5769.20        235.88                 0.04\n",
       "4302   4302  TD3DD          JI5     3786.00       1039.12                 0.27\n",
       "4504   4504  UNJKW          N8U     2179.00       4526.28                 2.08\n",
       "2134   2134  EEI1Q          JI5     1568.00        515.37                 0.33\n",
       "3370   3370  MXKDP          JI5     1252.00        313.08                 0.25\n",
       "2541   2541  H8P2L          JI5     1118.00        306.23                 0.27\n",
       "410     410  2SVKS          U5F     1113.00       2460.49                 2.21\n",
       "1929   1929  CYRX4          JI5     1071.00        295.06                 0.28\n",
       "4692   4692  W1ZMG          A38     1033.00       3986.37                 3.86\n",
       "1812   1812  C6TXL          NTA     1027.00       4621.50                 4.50"
      ]
     },
     "execution_count": 41,
     "metadata": {},
     "output_type": "execute_result"
    }
   ],
   "source": [
    "# 1.1 A esse ponto ja deu a entender que o nosso negocio é um que tem suas vendas focalizadas em compras de produtos baratos, \n",
    "# ... assim como podemos ver analisandos os produtos mais vendidos e seus preços\n",
    "prods.sort_values('Units_Sold', ascending=False)[:10]"
   ]
  },
  {
   "cell_type": "markdown",
   "id": "dbde3134",
   "metadata": {},
   "source": [
    "### Produtos que geram mais receita"
   ]
  },
  {
   "cell_type": "code",
   "execution_count": 42,
   "id": "c30efdec",
   "metadata": {},
   "outputs": [
    {
     "data": {
      "text/html": [
       "<div>\n",
       "<style scoped>\n",
       "    .dataframe tbody tr th:only-of-type {\n",
       "        vertical-align: middle;\n",
       "    }\n",
       "\n",
       "    .dataframe tbody tr th {\n",
       "        vertical-align: top;\n",
       "    }\n",
       "\n",
       "    .dataframe thead th {\n",
       "        text-align: right;\n",
       "    }\n",
       "</style>\n",
       "<table border=\"1\" class=\"dataframe\">\n",
       "  <thead>\n",
       "    <tr style=\"text-align: right;\">\n",
       "      <th></th>\n",
       "      <th>SKU_N</th>\n",
       "      <th>SKU</th>\n",
       "      <th>SKU_Category</th>\n",
       "      <th>Units_Sold</th>\n",
       "      <th>Total_Amount</th>\n",
       "      <th>Unit_Amount_Average</th>\n",
       "    </tr>\n",
       "  </thead>\n",
       "  <tbody>\n",
       "    <tr>\n",
       "      <th>606</th>\n",
       "      <td>606</td>\n",
       "      <td>3YDVF</td>\n",
       "      <td>6BZ</td>\n",
       "      <td>926.00</td>\n",
       "      <td>29419.35</td>\n",
       "      <td>31.77</td>\n",
       "    </tr>\n",
       "    <tr>\n",
       "      <th>3178</th>\n",
       "      <td>3178</td>\n",
       "      <td>LJ26I</td>\n",
       "      <td>9ZX</td>\n",
       "      <td>632.00</td>\n",
       "      <td>13571.45</td>\n",
       "      <td>21.47</td>\n",
       "    </tr>\n",
       "    <tr>\n",
       "      <th>2752</th>\n",
       "      <td>2752</td>\n",
       "      <td>IRQZ4</td>\n",
       "      <td>LDZ</td>\n",
       "      <td>321.00</td>\n",
       "      <td>11681.63</td>\n",
       "      <td>36.39</td>\n",
       "    </tr>\n",
       "    <tr>\n",
       "      <th>2071</th>\n",
       "      <td>2071</td>\n",
       "      <td>DWJC4</td>\n",
       "      <td>OQA</td>\n",
       "      <td>823.00</td>\n",
       "      <td>10592.09</td>\n",
       "      <td>12.87</td>\n",
       "    </tr>\n",
       "    <tr>\n",
       "      <th>621</th>\n",
       "      <td>621</td>\n",
       "      <td>44RUE</td>\n",
       "      <td>LDZ</td>\n",
       "      <td>218.00</td>\n",
       "      <td>8942.63</td>\n",
       "      <td>41.02</td>\n",
       "    </tr>\n",
       "    <tr>\n",
       "      <th>4716</th>\n",
       "      <td>4716</td>\n",
       "      <td>W6RZ8</td>\n",
       "      <td>D6J</td>\n",
       "      <td>126.00</td>\n",
       "      <td>8561.70</td>\n",
       "      <td>67.95</td>\n",
       "    </tr>\n",
       "    <tr>\n",
       "      <th>1654</th>\n",
       "      <td>1654</td>\n",
       "      <td>B87MU</td>\n",
       "      <td>9ZX</td>\n",
       "      <td>325.00</td>\n",
       "      <td>8183.89</td>\n",
       "      <td>25.18</td>\n",
       "    </tr>\n",
       "    <tr>\n",
       "      <th>3373</th>\n",
       "      <td>3373</td>\n",
       "      <td>MYDIB</td>\n",
       "      <td>6BZ</td>\n",
       "      <td>86.00</td>\n",
       "      <td>7933.95</td>\n",
       "      <td>92.26</td>\n",
       "    </tr>\n",
       "    <tr>\n",
       "      <th>1771</th>\n",
       "      <td>1771</td>\n",
       "      <td>BW8YX</td>\n",
       "      <td>OXH</td>\n",
       "      <td>44.00</td>\n",
       "      <td>7822.52</td>\n",
       "      <td>177.78</td>\n",
       "    </tr>\n",
       "    <tr>\n",
       "      <th>3690</th>\n",
       "      <td>3690</td>\n",
       "      <td>P35XJ</td>\n",
       "      <td>6BZ</td>\n",
       "      <td>57.00</td>\n",
       "      <td>7759.64</td>\n",
       "      <td>136.13</td>\n",
       "    </tr>\n",
       "  </tbody>\n",
       "</table>\n",
       "</div>"
      ],
      "text/plain": [
       "      SKU_N    SKU SKU_Category  Units_Sold  Total_Amount  Unit_Amount_Average\n",
       "606     606  3YDVF          6BZ      926.00      29419.35                31.77\n",
       "3178   3178  LJ26I          9ZX      632.00      13571.45                21.47\n",
       "2752   2752  IRQZ4          LDZ      321.00      11681.63                36.39\n",
       "2071   2071  DWJC4          OQA      823.00      10592.09                12.87\n",
       "621     621  44RUE          LDZ      218.00       8942.63                41.02\n",
       "4716   4716  W6RZ8          D6J      126.00       8561.70                67.95\n",
       "1654   1654  B87MU          9ZX      325.00       8183.89                25.18\n",
       "3373   3373  MYDIB          6BZ       86.00       7933.95                92.26\n",
       "1771   1771  BW8YX          OXH       44.00       7822.52               177.78\n",
       "3690   3690  P35XJ          6BZ       57.00       7759.64               136.13"
      ]
     },
     "execution_count": 42,
     "metadata": {},
     "output_type": "execute_result"
    }
   ],
   "source": [
    "# 1.1 Porem nao sao os produtos mais vendidos que geram maior receita, como podemos ver nos produtos abaixo que geram mais \n",
    "# ... dinheiro ao comercio, onde nao se repete um item do top10 mais vendidos no top10 que geram mais receita, que ainda nao sao\n",
    "# ... produtos caros(*dificil dizer isso por falta de informaçao da moeda utilizada, mas que provavelmente é o caso), mas de \n",
    "# ... valor medio\n",
    "prods.sort_values('Total_Amount', ascending=False)[:10]"
   ]
  },
  {
   "cell_type": "code",
   "execution_count": 48,
   "id": "43ee5934",
   "metadata": {},
   "outputs": [
    {
     "name": "stdout",
     "output_type": "stream",
     "text": [
      "(5242, 6)\n",
      "52\n"
     ]
    }
   ],
   "source": [
    "print(prods.shape)\n",
    "print(int(prods.shape[0]/100))"
   ]
  },
  {
   "cell_type": "code",
   "execution_count": 44,
   "id": "20c8fd9a",
   "metadata": {},
   "outputs": [
    {
     "name": "stdout",
     "output_type": "stream",
     "text": [
      "O top1% produtos mais vendidos equivalem a  20.46 da receita daquele ano\n",
      "O top10% produtos mais vendidos equivalem a  62.25 da receita daquele ano\n"
     ]
    }
   ],
   "source": [
    "# 52 é o numero equivalente a 1% dos produtos da loja\n",
    "top1_prods_receita = prods.sort_values('Total_Amount', ascending=False)[:52].Total_Amount.sum()\n",
    "top10_prods_receita = prods.sort_values('Total_Amount', ascending=False)[:520].Total_Amount.sum()\n",
    "top1_receita = df_porcentagens.iloc[5].Spent / 100\n",
    "receita_p = top1_prods_receita / top1_receita\n",
    "receita_p10 = top10_prods_receita / top1_receita\n",
    "print(\"O top1%% produtos mais vendidos equivalem a  %.2f da receita daquele ano\" % (receita_p))\n",
    "print(\"O top10%% produtos mais vendidos equivalem a  %.2f da receita daquele ano\" % (receita_p10))"
   ]
  },
  {
   "cell_type": "raw",
   "id": "cac992ea",
   "metadata": {},
   "source": [
    "Agora que sabemos que 10% dos produtos equivalem a 62% da renda é interessante saber qual o perfil desse produto"
   ]
  },
  {
   "cell_type": "markdown",
   "id": "28298a4c",
   "metadata": {},
   "source": [
    "### Perfil dos produtos mais que mais geram receita"
   ]
  },
  {
   "cell_type": "code",
   "execution_count": 45,
   "id": "1c0ab8f8",
   "metadata": {},
   "outputs": [
    {
     "data": {
      "text/plain": [
       "SJS    30\n",
       "LPF    29\n",
       "6BZ    27\n",
       "N8U    22\n",
       "01F    18\n",
       "1EO    18\n",
       "OXH    17\n",
       "Q4N    15\n",
       "IEV    15\n",
       "FEW    14\n",
       "U5F    12\n",
       "0H2    12\n",
       "R6E    11\n",
       "V9H    11\n",
       "FU5    11\n",
       "Name: SKU_Category, dtype: int64"
      ]
     },
     "execution_count": 45,
     "metadata": {},
     "output_type": "execute_result"
    }
   ],
   "source": [
    "# Essas sao as categorias que mais tem produtos que geram receita alta\n",
    "previous_list_categories_most_money = prods.sort_values('Total_Amount', ascending=False)[:520].SKU_Category.value_counts()[:15].index\n",
    "prods.sort_values('Total_Amount', ascending=False)[:520].SKU_Category.value_counts()[:15]"
   ]
  },
  {
   "cell_type": "code",
   "execution_count": 46,
   "id": "f65d0b98",
   "metadata": {},
   "outputs": [
    {
     "data": {
      "text/html": [
       "<div>\n",
       "<style scoped>\n",
       "    .dataframe tbody tr th:only-of-type {\n",
       "        vertical-align: middle;\n",
       "    }\n",
       "\n",
       "    .dataframe tbody tr th {\n",
       "        vertical-align: top;\n",
       "    }\n",
       "\n",
       "    .dataframe thead th {\n",
       "        text-align: right;\n",
       "    }\n",
       "</style>\n",
       "<table border=\"1\" class=\"dataframe\">\n",
       "  <thead>\n",
       "    <tr style=\"text-align: right;\">\n",
       "      <th></th>\n",
       "      <th>total</th>\n",
       "      <th>category</th>\n",
       "    </tr>\n",
       "  </thead>\n",
       "  <tbody>\n",
       "    <tr>\n",
       "      <th>30</th>\n",
       "      <td>114061.33</td>\n",
       "      <td>6BZ</td>\n",
       "    </tr>\n",
       "    <tr>\n",
       "      <th>155</th>\n",
       "      <td>85142.31</td>\n",
       "      <td>SJS</td>\n",
       "    </tr>\n",
       "    <tr>\n",
       "      <th>106</th>\n",
       "      <td>84921.91</td>\n",
       "      <td>LPF</td>\n",
       "    </tr>\n",
       "    <tr>\n",
       "      <th>131</th>\n",
       "      <td>54470.16</td>\n",
       "      <td>OXH</td>\n",
       "    </tr>\n",
       "    <tr>\n",
       "      <th>119</th>\n",
       "      <td>49119.55</td>\n",
       "      <td>N8U</td>\n",
       "    </tr>\n",
       "    <tr>\n",
       "      <th>41</th>\n",
       "      <td>42629.31</td>\n",
       "      <td>9ZX</td>\n",
       "    </tr>\n",
       "    <tr>\n",
       "      <th>0</th>\n",
       "      <td>38029.87</td>\n",
       "      <td>01F</td>\n",
       "    </tr>\n",
       "    <tr>\n",
       "      <th>91</th>\n",
       "      <td>37618.22</td>\n",
       "      <td>IEV</td>\n",
       "    </tr>\n",
       "    <tr>\n",
       "      <th>38</th>\n",
       "      <td>35528.14</td>\n",
       "      <td>8HU</td>\n",
       "    </tr>\n",
       "    <tr>\n",
       "      <th>148</th>\n",
       "      <td>34784.59</td>\n",
       "      <td>R6E</td>\n",
       "    </tr>\n",
       "    <tr>\n",
       "      <th>7</th>\n",
       "      <td>34638.22</td>\n",
       "      <td>1EO</td>\n",
       "    </tr>\n",
       "    <tr>\n",
       "      <th>69</th>\n",
       "      <td>32919.58</td>\n",
       "      <td>FEW</td>\n",
       "    </tr>\n",
       "    <tr>\n",
       "      <th>133</th>\n",
       "      <td>32009.44</td>\n",
       "      <td>P42</td>\n",
       "    </tr>\n",
       "    <tr>\n",
       "      <th>140</th>\n",
       "      <td>31928.34</td>\n",
       "      <td>Q4N</td>\n",
       "    </tr>\n",
       "    <tr>\n",
       "      <th>2</th>\n",
       "      <td>29875.14</td>\n",
       "      <td>0H2</td>\n",
       "    </tr>\n",
       "  </tbody>\n",
       "</table>\n",
       "</div>"
      ],
      "text/plain": [
       "        total category\n",
       "30  114061.33      6BZ\n",
       "155  85142.31      SJS\n",
       "106  84921.91      LPF\n",
       "131  54470.16      OXH\n",
       "119  49119.55      N8U\n",
       "41   42629.31      9ZX\n",
       "0    38029.87      01F\n",
       "91   37618.22      IEV\n",
       "38   35528.14      8HU\n",
       "148  34784.59      R6E\n",
       "7    34638.22      1EO\n",
       "69   32919.58      FEW\n",
       "133  32009.44      P42\n",
       "140  31928.34      Q4N\n",
       "2    29875.14      0H2"
      ]
     },
     "execution_count": 46,
     "metadata": {},
     "output_type": "execute_result"
    }
   ],
   "source": [
    "# 1.1 Quando na verdade sao essas sao as categorias que mais geram receita a loja(assumindo que tenham seus lucros proporcionais \n",
    "# ... por produto)\n",
    "list_grps = []\n",
    "for i in prods.groupby('SKU_Category'):\n",
    "    list_grps.append([i[1].Total_Amount.sum(), i[0]])\n",
    "list_categories_most_money = pd.DataFrame(list_grps, columns=['total', 'category']).sort_values('total', ascending=False)[:15].category.to_list()\n",
    "frame_category_amount = pd.DataFrame(list_grps, columns=['total', 'category']).sort_values('total', ascending=False)\n",
    "frame_category_amount[:15]"
   ]
  },
  {
   "cell_type": "code",
   "execution_count": 47,
   "id": "627e73f6",
   "metadata": {},
   "outputs": [
    {
     "name": "stdout",
     "output_type": "stream",
     "text": [
      "['SJS', 'LPF', '6BZ', 'N8U', '01F', '1EO', 'OXH', 'Q4N', 'IEV', 'FEW', 'U5F', '0H2', 'R6E', 'V9H', 'FU5']\n",
      "['6BZ', 'SJS', 'LPF', 'OXH', 'N8U', '9ZX', '01F', 'IEV', '8HU', 'R6E', '1EO', 'FEW', 'P42', 'Q4N', '0H2']\n",
      "True\n",
      "True\n",
      "True\n",
      "True\n",
      "True\n",
      "True\n",
      "True\n",
      "True\n",
      "True\n",
      "True\n",
      "False\n",
      "True\n",
      "True\n",
      "False\n",
      "False\n"
     ]
    }
   ],
   "source": [
    "# Temos overlapping de categorias em 12/15 mas nao em todas\n",
    "print(previous_list_categories_most_money.to_list())\n",
    "print(list_categories_most_money)\n",
    "for i in(previous_list_categories_most_money.to_list()):\n",
    "    print(i in list_categories_most_money)"
   ]
  },
  {
   "cell_type": "markdown",
   "id": "daca2a2f",
   "metadata": {},
   "source": [
    "### Categorias com maior numero de unidades vendidas"
   ]
  },
  {
   "cell_type": "code",
   "execution_count": 48,
   "id": "0436c017",
   "metadata": {},
   "outputs": [
    {
     "name": "stdout",
     "output_type": "stream",
     "text": [
      "['JI5', 'N8U', 'LPF', 'IEV', 'U5F', 'H8O', 'XG4', 'R6E', 'FU5', 'P42', '0H2', '01F', 'OXH', '29A', '8HU']\n"
     ]
    }
   ],
   "source": [
    "list_grps2 = []\n",
    "for i in prods.groupby('SKU_Category'):\n",
    "    list_grps2.append([i[1].Total_Amount.sum(), i[0], i[1].Units_Sold.sum()])\n",
    "list_categories_most_units = pd.DataFrame(list_grps2, columns=['total', 'category', 'units']).sort_values('units', ascending=False)[:15].category.to_list()\n",
    "frame_category_units = pd.DataFrame(list_grps2, columns=['total', 'category', 'units']).sort_values('units', ascending=False)\n",
    "print(list_categories_most_units)"
   ]
  },
  {
   "cell_type": "code",
   "execution_count": 91,
   "id": "88ddb708",
   "metadata": {},
   "outputs": [
    {
     "name": "stdout",
     "output_type": "stream",
     "text": [
      "['JI5', 'N8U', 'LPF', 'IEV', 'U5F', 'H8O', 'XG4', 'R6E', 'FU5', 'P42', '0H2', '01F', 'OXH', '29A', '8HU']\n",
      "['6BZ', 'SJS', 'LPF', 'OXH', 'N8U', '9ZX', '01F', 'IEV', '8HU', 'R6E', '1EO', 'FEW', 'P42', 'Q4N', '0H2']\n",
      "Matches: 9 de 15\n"
     ]
    }
   ],
   "source": [
    "# O overlapping em relaçao aos que produzem mais receita existe quando se fala das categorias mais vendidadas, mas menos 9/15\n",
    "print(list_categories_most_units)\n",
    "print(list_categories_most_money)\n",
    "matches = 0\n",
    "for i in(list_categories_most_units):\n",
    "    if i in list_categories_most_money:\n",
    "        matches += 1\n",
    "print(\"Matches:\", matches, \"de 15\")"
   ]
  },
  {
   "cell_type": "markdown",
   "id": "39d17374",
   "metadata": {},
   "source": [
    "### Nota-se que produtos que sao muito vendidos por mais que nao a maior quantidade de receita sao essenciais para comercios, por que fazem que o cliente venham a loja aumentando a popularidade da loja e trazendo potencial de clientes que gastem mais  "
   ]
  },
  {
   "cell_type": "markdown",
   "id": "fed5fcb4",
   "metadata": {},
   "source": [
    "## Analise distributiva de categorias dos produtos e suas peculiaridadez como sazonalidade"
   ]
  },
  {
   "cell_type": "code",
   "execution_count": 50,
   "id": "2715fa96",
   "metadata": {},
   "outputs": [],
   "source": [
    "categorias_prods = prods.groupby('SKU_Category')"
   ]
  },
  {
   "cell_type": "code",
   "execution_count": 51,
   "id": "01885326",
   "metadata": {},
   "outputs": [
    {
     "name": "stdout",
     "output_type": "stream",
     "text": [
      "30\n",
      "21\n",
      "['OXH', 'FEW', 'N8U', '6BZ', 'SJS', '9ZX', 'P42', 'LPF', 'XG4', 'FU5', '0H2', '29A', 'R6E', 'JI5', 'U5F', 'Q4N', '01F', 'IEV', '1EO', 'H8O', '8HU']\n"
     ]
    }
   ],
   "source": [
    "# 1.1 Selecionando principais categorias que serao analisadas, que serao as 15 que mais geraram lucro e as 15 que mais foram \n",
    "# ... vendidas, extraindo suas duplicadas\n",
    "# 1.2 Nota-se que diversas informaçoes que serao extraidas abaixo poderiam participar da base de dados de produtos, e esta\n",
    "# ... nos planos do projeto que isso sera feito\n",
    "\n",
    "lista_categorias = list_categories_most_units + list_categories_most_money\n",
    "\n",
    "print(len(lista_categorias))\n",
    "lista_categorias = [*set(lista_categorias)]\n",
    "print(len(lista_categorias))\n",
    "\n",
    "print(lista_categorias)"
   ]
  },
  {
   "cell_type": "markdown",
   "id": "268921ab",
   "metadata": {},
   "source": [
    "### Analisando produtos dominantes nas categorias principais, assim como seu preço"
   ]
  },
  {
   "cell_type": "code",
   "execution_count": 52,
   "id": "7b44b05e",
   "metadata": {
    "scrolled": false
   },
   "outputs": [
    {
     "data": {
      "text/plain": [
       "';)'"
      ]
     },
     "execution_count": 52,
     "metadata": {},
     "output_type": "execute_result"
    }
   ],
   "source": [
    "# 1.1 Print comentada abaixo exibe info das categorias principais, segue abaixo um sample de como fica para cada categoria:\n",
    "# 1.2 Foi comentada por ser muito longa para pouco instrutiva, mas informaçoes relevantes estao resumidas na celula abaixo \n",
    "\n",
    "#CATEGORIA: JI5 \n",
    "\n",
    "#Produto mais caro: 6.85\n",
    "#Produto mais barato: 0.25\n",
    "#Media de preço: 0.93\n",
    "\n",
    "#Produtos que participam com mais de 10% da receita ou de unidades vendidas:\n",
    "#- [categoria] [produto] [receita] [unidades]\n",
    "#- JI5 TD3DD 1039.12 3786\n",
    "#- JI5 EEI1Q 515.37 1568\n",
    "\n",
    "\"\"\"\n",
    "for i in lista_categorias:\n",
    "    cat = categorias_prods.get_group(i)\n",
    "    print(\"CATEGORIA:\", i, \"\\n\")\n",
    "    print(\"Produto mais caro: %.2f\" % cat.Unit_Amount_Average.max())\n",
    "    print(\"Produto mais barato: %.2f\" % cat.Unit_Amount_Average.min())\n",
    "    print(\"Media de preço: %.2f\" % cat.Unit_Amount_Average.mean())\n",
    "    \n",
    "    amount_sku_c10 = int(cat.Total_Amount.sum() / 10)\n",
    "    units_sku_c10 = int(cat.Units_Sold.sum() / 10)\n",
    "    \n",
    "    print(\"\\nProdutos que participam com mais de 10% da receita ou de unidades vendidas:\")\n",
    "    print(\"- [categoria] [produto] [receita] [unidades]\")\n",
    "    \n",
    "    for a in cat.sort_values('Total_Amount', ascending=False).iterrows():\n",
    "        if a[1].Total_Amount > amount_sku_c10 or a[1].Units_Sold > units_sku_c10:\n",
    "            print('-', i, a[1].SKU, '%.2f' % a[1].Total_Amount, int(a[1].Units_Sold))\n",
    "    print(\"\\n-----------------------\\n\")\n",
    "\"\"\"\n",
    "\";)\""
   ]
  },
  {
   "cell_type": "code",
   "execution_count": 53,
   "id": "fb3c82e2",
   "metadata": {},
   "outputs": [
    {
     "name": "stdout",
     "output_type": "stream",
     "text": [
      "['OXH', 'FEW', 'N8U', '6BZ', 'SJS', '9ZX', 'P42', 'LPF', 'XG4', 'FU5', '0H2', '29A', 'R6E', 'JI5', 'U5F', 'Q4N', '01F', 'IEV', '1EO', 'H8O', '8HU']\n"
     ]
    }
   ],
   "source": [
    "print(lista_categorias)\n",
    "\n",
    "#VALOR MEDIO:\n",
    "#Barato - <10\n",
    "#MEDIO = 10-30\n",
    "#Caro = >30\n",
    "\n",
    "# CATEGORIAS COM PRODUTOS BARATOS E QUE POSSUEM PRODUTOS DOMINANTES\n",
    "# IEV, H8O, 29A, XG4, 0H2, N8U, P42, FEW, FU5\n",
    "\n",
    "# CATEGORIAS COM PRODUTOS BARATOS SEM PRODUTOS DOMINANTES\n",
    "# R6E \n",
    "\n",
    "# CATEGORIAS COM PRODUTOS DE PREÇO MEDIO E QUE POSSUEM PRODUTOS DOMINANTES\n",
    "# Q4N, U5F, N8U, 8HU, 9ZX, OXH, 1EO\n",
    "\n",
    "# CATEGORIAS COM PRODUTOS DE PREÇO MEDIO SEM PRODUTOS DOMINANTES\n",
    "# LPF\n",
    "\n",
    "# CATEGORIAS COM PRODUTOS CAROS E QUE POSSUEM PRODUTOS DOMINANTES\n",
    "# 6BZ \n",
    "\n",
    "# CATEGORIAS COM PRODUTOS CAROS SEM PRODUTOS DOMINANTES\n",
    "# SJS - 1.1, 2.4"
   ]
  },
  {
   "cell_type": "raw",
   "id": "92a423e3",
   "metadata": {},
   "source": [
    "1.1 Podemos observar que em sua maior parte categorias principais sao compostas por, produtos de pequeno/medio preço com     ... produtos dominantes dentro da categoria, mas tambem com categorias de produtos mais caros que sao importantes para o      ... faturamento total\n",
    "1.2 A maioria de categorias principais possuem pelo menos um produto dominante dentro delas(na maior parte das vezes mais de ... um, chegando ate 5)"
   ]
  },
  {
   "cell_type": "markdown",
   "id": "510c58e3",
   "metadata": {},
   "source": [
    "### Analise de sazonalidade das principais categorias "
   ]
  },
  {
   "cell_type": "code",
   "execution_count": 76,
   "id": "9a0dd826",
   "metadata": {},
   "outputs": [
    {
     "data": {
      "text/plain": [
       "<AxesSubplot:xlabel='mes'>"
      ]
     },
     "execution_count": 76,
     "metadata": {},
     "output_type": "execute_result"
    },
    {
     "data": {
      "image/png": "[encoded data removed]",
      "text/plain": [
       "<Figure size 640x480 with 1 Axes>"
      ]
     },
     "metadata": {},
     "output_type": "display_data"
    }
   ],
   "source": [
    "# Para comparaçao visual, grafico de todas as vendas por mes\n",
    "fatm3.plot(kind='bar', x='mes', y='fatura')"
   ]
  },
  {
   "cell_type": "code",
   "execution_count": 90,
   "id": "bbd5ec97",
   "metadata": {
    "scrolled": false
   },
   "outputs": [
    {
     "name": "stdout",
     "output_type": "stream",
     "text": [
      "Categorias principais analisadas:\n",
      " ['OXH', 'FEW', 'N8U', '6BZ', 'SJS', '9ZX', 'P42', 'LPF', 'XG4', 'FU5', '0H2', '29A', 'R6E', 'JI5', 'U5F', 'Q4N', '01F', 'IEV', '1EO', 'H8O', '8HU']\n",
      "Categorias comentadas acima:\n",
      " ['FEW', 'SJS', '9ZX', 'P42', '0H2', 'JI5']\n"
     ]
    },
    {
     "data": {
      "image/png": "[encoded data removed]",
      "text/plain": [
       "<Figure size 640x480 with 1 Axes>"
      ]
     },
     "metadata": {},
     "output_type": "display_data"
    },
    {
     "data": {
      "image/png": "[encoded data removed]",
      "text/plain": [
       "<Figure size 640x480 with 1 Axes>"
      ]
     },
     "metadata": {},
     "output_type": "display_data"
    },
    {
     "data": {
      "image/png": "[encoded data removed]",
      "text/plain": [
       "<Figure size 640x480 with 1 Axes>"
      ]
     },
     "metadata": {},
     "output_type": "display_data"
    },
    {
     "data": {
      "image/png": "[encoded data removed]",
      "text/plain": [
       "<Figure size 640x480 with 1 Axes>"
      ]
     },
     "metadata": {},
     "output_type": "display_data"
    },
    {
     "data": {
      "image/png": "[encoded data removed]",
      "text/plain": [
       "<Figure size 640x480 with 1 Axes>"
      ]
     },
     "metadata": {},
     "output_type": "display_data"
    },
    {
     "data": {
      "image/png": "[encoded data removed]",
      "text/plain": [
       "<Figure size 640x480 with 1 Axes>"
      ]
     },
     "metadata": {},
     "output_type": "display_data"
    }
   ],
   "source": [
    "# 1.1 Lembrando que nao se tem informaçoes sobre o que realmente sao as categorias dos produtos nem estoque etc, logo fica mais\n",
    "# ... dificil fazer entender os motivos da sazonalidade\n",
    "# 1.2 Apos plotar o grafico e perceber que a maioria segue a mesma tendencia geral da loja, escolhi algumas categorias que tem\n",
    "# ... sua seasonalidade diferente do habitual para dar enfoque, para visualizar todas, basta trocar na linha do for\n",
    "# ... 'seasonalidade_interessante' por 'lista_categorias'\n",
    "# 1.3 Graficos estao plotados abaixo\n",
    "# 2.1 FEW - É muito similar a seasonalidade geral, porem tem uma acentuaçao notavel no mes de maio e ao redor, e mais estavel\n",
    "# ... nas extremidades do ano comparado ao normal\n",
    "# 2.2 SJS - Com certeza essa categoria precisa de mais informaçoes para entende-la, suas ascençoes e quedas quase se invertem  \n",
    "# ... todo mes, me deixa muitissimo curioso para entende-la se é que tem boa explicaçao, porem me conterei a comentar que\n",
    "# ... é uma seasonalidade anormal relativamente estavel meio ao caos, e uma leve tendencia do caos ter numeros brutos\n",
    "# ... maiores no fim do ano. Uma categoria com variedade de preço de seus produtos, mas que receita principalmente de produtos\n",
    "# ... nao baratos (>40), sugere eventos.\n",
    "# 2.3 9ZX - Em fevereiro, junho e setembro essa categoria cai em vendas, se recupera e mantem ate esses meses, claro que para\n",
    "# ... afirmar isso seria necessario dados de mais anos, estoque, saber tipo do produto etc. Mas é sua tendencia nesse ano\n",
    "# 2.4 P42 - Esse é interessante e 'facil' de entender ele tem uma queda brusca nos meses centrais do ano, cresce em volta e tem\n",
    "# ... seu auge em dezembro, que *deve* estar relacionado ao clima, como nao sabemos em qual hemisferio essa loja esta, é dificil\n",
    "# ... de dizer qual. Importante comentar que por mais que a loja tenha seu pico maximo daquele ano em dezembro, pode significar\n",
    "# ... alem do pico sazonal de que existe um crescimento da loja como um todo junto\n",
    "# 2.5 0H2 - Possui uma onda similar com a P42 entao suas vendas ser mais procuradas por causa do clima, mas tem dezembro\n",
    "# ... ainda mais acentuado, o que pode ou nao significar uma forte correlaçao com festividade de fim de ano\n",
    "# 2.6 JI5 - Possui curiosos picos durante epocas de transiçao de clima, assim como na extrema ponta do ano, com seu auge em\n",
    "# ... outubro, tipo de produto, estoque podem ser fatores que expliquem essa diferença, nao acho impossivel ser atrelado a\n",
    "# ... festividades tambem, porem seu preço medio que é baixo(<10 - media), e larga escala de compra para loja me deixa\n",
    "# ... cetico que seja o caso\n",
    "print('Categorias principais analisadas:\\n',lista_categorias)\n",
    "seasonalidade_interessante = ['FEW', 'SJS', '9ZX', 'P42', '0H2', 'JI5']\n",
    "print('Categorias comentadas acima:\\n',seasonalidade_interessante)\n",
    "for i in seasonalidade_interessante:\n",
    "    meses = [0,0,0,0,0,0,0,0,0,0,0,0]\n",
    "    for a in transfers[transfers.SKU_Category == i].iterrows():\n",
    "        meses[a[1].Date.month - 1] += 1\n",
    "    plt.bar(range(12), meses)\n",
    "    plt.title(i)\n",
    "    plt.show()"
   ]
  },
  {
   "cell_type": "markdown",
   "id": "672d85ad",
   "metadata": {},
   "source": [
    "# 1.3 Recorrencia de clientes"
   ]
  },
  {
   "cell_type": "markdown",
   "id": "af74679e",
   "metadata": {},
   "source": [
    "## 1.3.1 Distrubuiçao por mes de clientes"
   ]
  },
  {
   "cell_type": "code",
   "execution_count": 304,
   "id": "f4938767",
   "metadata": {},
   "outputs": [
    {
     "data": {
      "image/png": "[encoded data removed]",
      "text/plain": [
       "<Figure size 640x480 with 1 Axes>"
      ]
     },
     "metadata": {},
     "output_type": "display_data"
    }
   ],
   "source": [
    "# Clientes novos por mes | 0 - janeiro | 11 - dezembro\n",
    "mes_a = [0,0,0,0,0,0,0,0,0,0,0,0]\n",
    "for i in users.iterrows():\n",
    "    mes_a[int(i[1].First_Order_Date[5:7])-1] += 1\n",
    "plt.bar(range(12), mes_a)\n",
    "plt.xticks(range(0,12))\n",
    "plt.show()"
   ]
  },
  {
   "cell_type": "code",
   "execution_count": 288,
   "id": "c9883b7f",
   "metadata": {},
   "outputs": [
    {
     "data": {
      "image/png": "[encoded data removed]",
      "text/plain": [
       "<Figure size 640x480 with 1 Axes>"
      ]
     },
     "metadata": {},
     "output_type": "display_data"
    }
   ],
   "source": [
    "# 1.1 Clientes perdidos por mes, nota-se que quanto mais perto do fim do ano mais chance da pessoa nao comprar novamente por que \n",
    "# ... acabaram se os dados | 0 - janeiro | 11 - dezembro\n",
    "mes_b = [0,0,0,0,0,0,0,0,0,0,0,0]\n",
    "for i in users[users[\"Total_Transactions\"] == 1].iterrows():\n",
    "    mes_b[int(i[1].Last_Order_Date[5:7])-1] += 1\n",
    "plt.bar(range(12), mes_b)\n",
    "plt.show()"
   ]
  },
  {
   "cell_type": "code",
   "execution_count": 306,
   "id": "1009910a",
   "metadata": {},
   "outputs": [
    {
     "data": {
      "image/png": "[encoded data removed]",
      "text/plain": [
       "<Figure size 640x480 with 2 Axes>"
      ]
     },
     "metadata": {},
     "output_type": "display_data"
    }
   ],
   "source": [
    "# Em azul novos clientes, em vermelho os mesmos clientes que nao voltaram a fazer compras na loja\n",
    "ind = np.arange(len(mes_a))\n",
    "\n",
    "fig = plt.figure()\n",
    "ax = fig.add_subplot(111)\n",
    "\n",
    "ax.bar(ind+0.8, mes_a, 0.4, color='blue')\n",
    "plt.ylim(0, 3500)\n",
    "\n",
    "ax2 = ax.twinx()\n",
    "\n",
    "ax2.bar(ind+1.2, mes_b, 0.4, color='red')\n",
    "plt.ylim(0, 3500)\n",
    "\n",
    "plt.xticks(range(1,13))\n",
    "plt.show()"
   ]
  },
  {
   "cell_type": "markdown",
   "id": "fa15aa82",
   "metadata": {},
   "source": [
    "## 1.4 Categorias para clientes"
   ]
  },
  {
   "cell_type": "markdown",
   "id": "27b4da39",
   "metadata": {},
   "source": [
    "## 1.4.1 Clientes nichados por categoria"
   ]
  },
  {
   "cell_type": "code",
   "execution_count": 366,
   "id": "e8d54cf6",
   "metadata": {
    "scrolled": false
   },
   "outputs": [
    {
     "name": "stdout",
     "output_type": "stream",
     "text": [
      "['OXH', 'FEW', 'N8U', '6BZ', 'SJS', '9ZX', 'P42', 'LPF', 'XG4', 'FU5', '0H2', '29A', 'R6E', 'JI5', 'U5F', 'Q4N', '01F', 'IEV', '1EO', 'H8O', '8HU']\n",
      "['U5F', 'N8U', 'P42']\n",
      "---\n",
      " U5F \n",
      "\n",
      "Transaçoes feitas do produto: 4570\n",
      "Pessoas fizeram essas transaçoes: 2014 \n",
      "\n",
      "Pessoas que de todas as compras, compram mais de 50% dos produtos daquela categoria: 22\n",
      "---\n",
      " N8U \n",
      "\n",
      "Transaçoes feitas do produto: 10913\n",
      "Pessoas fizeram essas transaçoes: 6201 \n",
      "\n",
      "Pessoas que de todas as compras, compram mais de 50% dos produtos daquela categoria: 29\n",
      "---\n",
      " P42 \n",
      "\n",
      "Transaçoes feitas do produto: 4836\n",
      "Pessoas fizeram essas transaçoes: 3248 \n",
      "\n",
      "Pessoas que de todas as compras, compram mais de 50% dos produtos daquela categoria: 10\n"
     ]
    }
   ],
   "source": [
    "# 1.1 Como foi utilizada apenas as categorias mais populares, nao aconteceu do produto ser excessivamente comprado por poucas\n",
    "# ... pessoas em relaçao a todas as vendas\n",
    "# 1.2 A categoria mais expressiva, continua nao sendo nada expressiva(*dentre as populares), que é a U5F que os clientes \n",
    "# ... tendem a comprar 2.5x produtos daquela categoria, tendo 22 clientes que de todas suas compras pelo menos metade delas\n",
    "# ... foram da categoria em questao\n",
    "print(lista_categorias) # Categorias analisadas(principais, citadas ao longo do notebook)\n",
    "possiveis_nichos = ['U5F', 'N8U', 'P42'] # Categorias que se destacaram dentre as analisadas\n",
    "print(possiveis_nichos)\n",
    "for i in possiveis_nichos:\n",
    "    print('---\\n',i, \"\\n\")\n",
    "    gq = transfers.groupby('SKU_Category').get_group(i)\n",
    "    print('Transaçoes feitas do produto:', gq.shape[0])\n",
    "    print('Pessoas fizeram essas transaçoes:', len(gq.Customer_ID.unique()), '\\n')\n",
    "    gqc = gq.groupby(\"Customer_ID\")\n",
    "    groups_rec = []\n",
    "    for a in gqc:\n",
    "        if a[1].shape[0] > 5:\n",
    "            groups_rec.append(a[0])\n",
    "    count = 0\n",
    "    for a in groups_rec:\n",
    "        for b in users.groupby(\"Customer_ID\").get_group(a).SKU_Category:\n",
    "            if (sum(eval(b).values()) - eval(b).get(i)) < (sum(eval(b).values())/10)*5:\n",
    "                count +=1\n",
    "                #print(sum(eval(b).values()))\n",
    "                #print(eval(b).get(i))\n",
    "    print(\"Pessoas que de todas as compras, compram mais de 50% dos produtos daquela categoria:\", count)"
   ]
  }
 ],
 "metadata": {
  "kernelspec": {
   "display_name": "Python 3 (ipykernel)",
   "language": "python",
   "name": "python3"
  },
  "language_info": {
   "codemirror_mode": {
    "name": "ipython",
    "version": 3
   },
   "file_extension": ".py",
   "mimetype": "text/x-python",
   "name": "python",
   "nbconvert_exporter": "python",
   "pygments_lexer": "ipython3",
   "version": "3.9.13"
  }
 },
 "nbformat": 4,
 "nbformat_minor": 5
}
